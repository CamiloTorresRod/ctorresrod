{
 "cells": [
  {
   "cell_type": "markdown",
   "id": "56adcf12",
   "metadata": {},
   "source": [
    "# CARS"
   ]
  },
  {
   "cell_type": "code",
   "execution_count": 1,
   "id": "2177560b",
   "metadata": {},
   "outputs": [],
   "source": [
    "import pandas as pd\n",
    "import seaborn as sns\n",
    "import matplotlib.pyplot as plt\n",
    "import time\n",
    "import numpy as np"
   ]
  },
  {
   "cell_type": "code",
   "execution_count": 2,
   "id": "516bf962",
   "metadata": {},
   "outputs": [],
   "source": [
    "from sklearn.model_selection import train_test_split\n",
    "from sklearn.ensemble import RandomForestRegressor\n",
    "from sklearn.preprocessing import OneHotEncoder\n",
    "from sklearn.compose import ColumnTransformer\n",
    "from sklearn.pipeline import Pipeline\n",
    "from sklearn.impute import SimpleImputer"
   ]
  },
  {
   "cell_type": "code",
   "execution_count": 3,
   "id": "de8ac636",
   "metadata": {},
   "outputs": [],
   "source": [
    "# Import DataFrames\n",
    "counties = pd.read_csv('counties.csv', delimiter=';')\n",
    "crashes_poverty = pd.read_csv('crashes_poverty.csv', delimiter=';')\n",
    "vehicles = pd.read_csv('vehicles.csv')"
   ]
  },
  {
   "cell_type": "markdown",
   "id": "f16b6cad",
   "metadata": {},
   "source": [
    "## 1. Counties"
   ]
  },
  {
   "cell_type": "code",
   "execution_count": 4,
   "id": "102196de",
   "metadata": {},
   "outputs": [
    {
     "data": {
      "text/html": [
       "<div>\n",
       "<style scoped>\n",
       "    .dataframe tbody tr th:only-of-type {\n",
       "        vertical-align: middle;\n",
       "    }\n",
       "\n",
       "    .dataframe tbody tr th {\n",
       "        vertical-align: top;\n",
       "    }\n",
       "\n",
       "    .dataframe thead th {\n",
       "        text-align: right;\n",
       "    }\n",
       "</style>\n",
       "<table border=\"1\" class=\"dataframe\">\n",
       "  <thead>\n",
       "    <tr style=\"text-align: right;\">\n",
       "      <th></th>\n",
       "      <th>State</th>\n",
       "      <th>Abbreviation</th>\n",
       "      <th>Postal\\ncode</th>\n",
       "    </tr>\n",
       "  </thead>\n",
       "  <tbody>\n",
       "    <tr>\n",
       "      <th>0</th>\n",
       "      <td>Alabama</td>\n",
       "      <td>Ala.</td>\n",
       "      <td>AL</td>\n",
       "    </tr>\n",
       "    <tr>\n",
       "      <th>1</th>\n",
       "      <td>Alaska</td>\n",
       "      <td>Alaska</td>\n",
       "      <td>AK</td>\n",
       "    </tr>\n",
       "    <tr>\n",
       "      <th>2</th>\n",
       "      <td>American Samoa</td>\n",
       "      <td></td>\n",
       "      <td>AS</td>\n",
       "    </tr>\n",
       "    <tr>\n",
       "      <th>3</th>\n",
       "      <td>Arizona</td>\n",
       "      <td>Ariz.</td>\n",
       "      <td>AZ</td>\n",
       "    </tr>\n",
       "    <tr>\n",
       "      <th>4</th>\n",
       "      <td>Arkansas</td>\n",
       "      <td>Ark.</td>\n",
       "      <td>AR</td>\n",
       "    </tr>\n",
       "    <tr>\n",
       "      <th>5</th>\n",
       "      <td>California</td>\n",
       "      <td>Calif.</td>\n",
       "      <td>CA</td>\n",
       "    </tr>\n",
       "    <tr>\n",
       "      <th>6</th>\n",
       "      <td>Colorado</td>\n",
       "      <td>Colo.</td>\n",
       "      <td>CO</td>\n",
       "    </tr>\n",
       "    <tr>\n",
       "      <th>7</th>\n",
       "      <td>Connecticut</td>\n",
       "      <td>Conn.</td>\n",
       "      <td>CT</td>\n",
       "    </tr>\n",
       "    <tr>\n",
       "      <th>8</th>\n",
       "      <td>Delaware</td>\n",
       "      <td>Del.</td>\n",
       "      <td>DE</td>\n",
       "    </tr>\n",
       "    <tr>\n",
       "      <th>9</th>\n",
       "      <td>Dist. of Columbia</td>\n",
       "      <td>D.C.</td>\n",
       "      <td>DC</td>\n",
       "    </tr>\n",
       "  </tbody>\n",
       "</table>\n",
       "</div>"
      ],
      "text/plain": [
       "               State Abbreviation Postal\\ncode\n",
       "0            Alabama         Ala.           AL\n",
       "1             Alaska       Alaska           AK\n",
       "2     American Samoa                        AS\n",
       "3            Arizona        Ariz.           AZ\n",
       "4           Arkansas         Ark.           AR\n",
       "5         California       Calif.           CA\n",
       "6           Colorado        Colo.           CO\n",
       "7        Connecticut        Conn.           CT\n",
       "8           Delaware         Del.           DE\n",
       "9  Dist. of Columbia         D.C.           DC"
      ]
     },
     "execution_count": 4,
     "metadata": {},
     "output_type": "execute_result"
    }
   ],
   "source": [
    "counties.head(10)"
   ]
  },
  {
   "cell_type": "code",
   "execution_count": 5,
   "id": "62b3eea7",
   "metadata": {},
   "outputs": [
    {
     "data": {
      "text/plain": [
       "Index(['State', 'Abbreviation', 'Postal\\ncode'], dtype='object')"
      ]
     },
     "execution_count": 5,
     "metadata": {},
     "output_type": "execute_result"
    }
   ],
   "source": [
    "counties.columns"
   ]
  },
  {
   "cell_type": "code",
   "execution_count": 6,
   "id": "36649c44",
   "metadata": {},
   "outputs": [],
   "source": [
    "#Cambiar nombre a columna 'Postal\\ncode''\n",
    "counties = counties.rename(columns={'Postal\\ncode': 'Postal'})\n",
    "counties['Postal'] = counties['Postal'].str.lower()"
   ]
  },
  {
   "cell_type": "code",
   "execution_count": 7,
   "id": "f7d1dd7c",
   "metadata": {},
   "outputs": [
    {
     "data": {
      "text/plain": [
       "array(['al', 'ak', 'as', 'az', 'ar', 'ca', 'co', 'ct', 'de', 'dc', 'fl',\n",
       "       'ga', 'gu', 'hi', 'id', 'il', 'in', 'ia', 'ks', 'ky', 'la', 'me',\n",
       "       'md', 'mh', 'ma', 'mi', 'fm', 'mn', 'ms', 'mo', 'mt', 'ne', 'nv',\n",
       "       'nh', 'nj', 'nm', 'ny', 'nc', 'nd', 'mp', 'oh', 'ok', 'or', 'pw',\n",
       "       'pa', 'pr', 'ri', 'sc', 'sd', 'tn', 'tx', 'ut', 'vt', 'va', 'vi',\n",
       "       'wa', 'wv', 'wi', 'wy'], dtype=object)"
      ]
     },
     "execution_count": 7,
     "metadata": {},
     "output_type": "execute_result"
    }
   ],
   "source": [
    "# Valores Únicos\n",
    "counties['Postal'].unique()"
   ]
  },
  {
   "cell_type": "code",
   "execution_count": 18,
   "id": "dad3c05c",
   "metadata": {},
   "outputs": [
    {
     "data": {
      "text/plain": [
       "array(['Alabama', 'Alaska', 'American Samoa', 'Arizona', 'Arkansas',\n",
       "       'California', 'Colorado', 'Connecticut', 'Delaware',\n",
       "       'Dist. of Columbia', 'Florida', 'Georgia', 'Guam', 'Hawaii',\n",
       "       'Idaho', 'Illinois', 'Indiana', 'Iowa', 'Kansas', 'Kentucky',\n",
       "       'Louisiana', 'Maine', 'Maryland', 'Marshall Islands',\n",
       "       'Massachusetts', 'Michigan', 'Micronesia', 'Minnesota',\n",
       "       'Mississippi', 'Missouri', 'Montana', 'Nebraska', 'Nevada',\n",
       "       'New Hampshire', 'New Jersey', 'New Mexico', 'New York',\n",
       "       'North Carolina', 'North Dakota', 'Northern Marianas', 'Ohio',\n",
       "       'Oklahoma', 'Oregon', 'Palau', 'Pennsylvania', 'Puerto Rico',\n",
       "       'Rhode Island', 'South Carolina', 'South Dakota', 'Tennessee',\n",
       "       'Texas', 'Utah', 'Vermont', 'Virginia', 'Virgin Islands',\n",
       "       'Washington', 'West Virginia', 'Wisconsin', 'Wyoming'],\n",
       "      dtype=object)"
      ]
     },
     "execution_count": 18,
     "metadata": {},
     "output_type": "execute_result"
    }
   ],
   "source": [
    "# Estados\n",
    "counties['State'].unique()"
   ]
  },
  {
   "cell_type": "markdown",
   "id": "11715ddd",
   "metadata": {},
   "source": [
    "## 2. Crashes Poverty"
   ]
  },
  {
   "cell_type": "code",
   "execution_count": 6,
   "id": "b42c021b",
   "metadata": {},
   "outputs": [
    {
     "data": {
      "text/html": [
       "<div>\n",
       "<style scoped>\n",
       "    .dataframe tbody tr th:only-of-type {\n",
       "        vertical-align: middle;\n",
       "    }\n",
       "\n",
       "    .dataframe tbody tr th {\n",
       "        vertical-align: top;\n",
       "    }\n",
       "\n",
       "    .dataframe thead th {\n",
       "        text-align: right;\n",
       "    }\n",
       "</style>\n",
       "<table border=\"1\" class=\"dataframe\">\n",
       "  <thead>\n",
       "    <tr style=\"text-align: right;\">\n",
       "      <th></th>\n",
       "      <th>State</th>\n",
       "      <th>Number of Crashes</th>\n",
       "      <th>Poverty</th>\n",
       "    </tr>\n",
       "  </thead>\n",
       "  <tbody>\n",
       "    <tr>\n",
       "      <th>0</th>\n",
       "      <td>Florida</td>\n",
       "      <td>1011</td>\n",
       "      <td>13.7</td>\n",
       "    </tr>\n",
       "    <tr>\n",
       "      <th>1</th>\n",
       "      <td>Tennessee</td>\n",
       "      <td>437</td>\n",
       "      <td>15.2</td>\n",
       "    </tr>\n",
       "    <tr>\n",
       "      <th>2</th>\n",
       "      <td>New Mexico</td>\n",
       "      <td>344</td>\n",
       "      <td>18.8</td>\n",
       "    </tr>\n",
       "    <tr>\n",
       "      <th>3</th>\n",
       "      <td>Alabama</td>\n",
       "      <td>336</td>\n",
       "      <td>16.8</td>\n",
       "    </tr>\n",
       "    <tr>\n",
       "      <th>4</th>\n",
       "      <td>Louisiana</td>\n",
       "      <td>271</td>\n",
       "      <td>18.7</td>\n",
       "    </tr>\n",
       "  </tbody>\n",
       "</table>\n",
       "</div>"
      ],
      "text/plain": [
       "        State  Number of Crashes  Poverty\n",
       "0     Florida               1011     13.7\n",
       "1   Tennessee                437     15.2\n",
       "2  New Mexico                344     18.8\n",
       "3     Alabama                336     16.8\n",
       "4   Louisiana                271     18.7"
      ]
     },
     "execution_count": 6,
     "metadata": {},
     "output_type": "execute_result"
    }
   ],
   "source": [
    "crashes_poverty.head()"
   ]
  },
  {
   "cell_type": "code",
   "execution_count": 8,
   "id": "c3cd8809",
   "metadata": {},
   "outputs": [
    {
     "data": {
      "text/plain": [
       "array(['Florida', 'Tennessee', 'New Mexico', 'Alabama', 'Louisiana',\n",
       "       'Texas', 'Arizona', 'Washington', 'South Carolina',\n",
       "       'North Carolina', 'Virginia', 'Ohio', 'Nebraska', 'Wyoming',\n",
       "       'Missouri', 'New York', 'Iowa', 'Nevada', 'Connecticut',\n",
       "       'Arkansas', 'Idaho', 'Kansas', 'Oklahoma', 'Montana', 'Oregon',\n",
       "       'Georgia', 'Mississippi', 'Maryland', 'California', 'Wisconsin',\n",
       "       'Kentucky', 'Utah', 'Colorado', 'Michigan', 'New Jersey',\n",
       "       'Pennsylvania', 'Delaware', 'Indiana', 'West Virginia', 'Illinois',\n",
       "       'Maine', 'Massachusetts', 'North Dakota', 'Hawaii', 'Minnesota',\n",
       "       'New Hampshire', 'South Dakota', 'Vermont', 'Rhode Island',\n",
       "       'Alaska'], dtype=object)"
      ]
     },
     "execution_count": 8,
     "metadata": {},
     "output_type": "execute_result"
    }
   ],
   "source": [
    "crashes_poverty.State.unique()"
   ]
  },
  {
   "cell_type": "code",
   "execution_count": 9,
   "id": "5363bd2a",
   "metadata": {},
   "outputs": [
    {
     "data": {
      "text/plain": [
       "(50, 3)"
      ]
     },
     "execution_count": 9,
     "metadata": {},
     "output_type": "execute_result"
    }
   ],
   "source": [
    "crashes_poverty.shape"
   ]
  },
  {
   "cell_type": "markdown",
   "id": "2b2fecd2",
   "metadata": {},
   "source": [
    "## 3. Vehicles"
   ]
  },
  {
   "cell_type": "code",
   "execution_count": 10,
   "id": "9644d0f2",
   "metadata": {},
   "outputs": [
    {
     "name": "stdout",
     "output_type": "stream",
     "text": [
      "                      region  price    year manufacturer  \\\n",
      "0               palm springs   3400  2002.0   volkswagen   \n",
      "1                      salem   6300  2004.0    chevrolet   \n",
      "2                long island   9997  2011.0       nissan   \n",
      "3                   amarillo  21504  2017.0    chevrolet   \n",
      "4              inland empire  28900  2009.0     cadillac   \n",
      "...                      ...    ...     ...          ...   \n",
      "26983     mcallen / edinburg   7200  2007.0    chevrolet   \n",
      "26984             western IL      0  2019.0         ford   \n",
      "26985  ft myers / SW florida  10000  2002.0    chevrolet   \n",
      "26986                 tucson   3800  2005.0        dodge   \n",
      "26987            los angeles  21800  2013.0          bmw   \n",
      "\n",
      "                              model  condition    cylinders fuel  odometer  \\\n",
      "0                         jetta gls  excellent  4 cylinders  gas  100000.0   \n",
      "1           silverado 2500 crew cab        NaN  8 cylinders  gas  208942.0   \n",
      "2                            xterra  excellent          NaN  gas  125666.0   \n",
      "3                            malibu        NaN  4 cylinders  gas   24218.0   \n",
      "4                             cts-v  excellent  8 cylinders  gas   61000.0   \n",
      "...                             ...        ...          ...  ...       ...   \n",
      "26983                      tahoe lt       fair  8 cylinders  gas  210000.0   \n",
      "26984                      explorer        NaN          NaN  gas   36863.0   \n",
      "26985                      corvette        NaN          NaN  gas       NaN   \n",
      "26986                 grand caravan        NaN          NaN  gas       NaN   \n",
      "26987  3 series 328i convertible 2d       good          NaN  gas   18124.0   \n",
      "\n",
      "      title_status  ...                vin drive       size    type  \\\n",
      "0            clean  ...  WVWSK61J62W209823   NaN        NaN   wagon   \n",
      "1            clean  ...  1GCHK23U94F144317   4wd        NaN  pickup   \n",
      "2            clean  ...  5N1AN0NWXBC502031   NaN        NaN     NaN   \n",
      "3            clean  ...                NaN   fwd   mid-size   sedan   \n",
      "4            clean  ...                NaN   rwd   mid-size   sedan   \n",
      "...            ...  ...                ...   ...        ...     ...   \n",
      "26983        clean  ...                NaN   rwd  full-size     SUV   \n",
      "26984        clean  ...  1FM5K7F89KGB42455   fwd        NaN     NaN   \n",
      "26985        clean  ...                NaN   NaN        NaN     NaN   \n",
      "26986        clean  ...                NaN   NaN        NaN     NaN   \n",
      "26987        clean  ...  WBADW7C54DE734050   rwd        NaN   other   \n",
      "\n",
      "      paint_color                                        description county  \\\n",
      "0             NaN  This 2002 Volkswagen Jetta GLS Wagon is simply...    NaN   \n",
      "1           white  We want to let you know up front that Synergiz...    NaN   \n",
      "2             NaN  Year : 2011   \\t\\t  Make : NISSAN   \\t\\t\\tMode...    NaN   \n",
      "3             red  Use this link to see more information on this ...    NaN   \n",
      "4          silver  2009 CTS-V, FAST! Awesome car, super clean, we...    NaN   \n",
      "...           ...                                                ...    ...   \n",
      "26983        grey  Selling a 2007 chevy tahoe lt 5.3 lt V8 210,00...    NaN   \n",
      "26984      silver  Blackwell Motors address:    1001 Highway K Bo...    NaN   \n",
      "26985         NaN  Good condition, reply to post to see, nights a...    NaN   \n",
      "26986         NaN  2005 Dodge grand caravan, $3,800, title clean,...    NaN   \n",
      "26987         NaN  Welcome to Carvana—the new way to buy a car (e...    NaN   \n",
      "\n",
      "       state      lat      long  \n",
      "0         ca  33.7451 -116.3520  \n",
      "1         or  44.9225 -123.3200  \n",
      "2         ny  40.8004  -73.0058  \n",
      "3         tx  35.1773 -101.7940  \n",
      "4         ca  33.9748 -117.5580  \n",
      "...      ...      ...       ...  \n",
      "26983     tx  26.1694  -97.9887  \n",
      "26984     il  37.9206  -90.5391  \n",
      "26985     fl  26.2925  -81.5947  \n",
      "26986     az  32.1422 -111.0510  \n",
      "26987     ca  33.9500 -118.1200  \n",
      "\n",
      "[26988 rows x 21 columns]\n"
     ]
    }
   ],
   "source": [
    "print(vehicles)"
   ]
  },
  {
   "cell_type": "code",
   "execution_count": 11,
   "id": "0c9993a0",
   "metadata": {},
   "outputs": [
    {
     "data": {
      "text/plain": [
       "Index(['region', 'price', 'year', 'manufacturer', 'model', 'condition',\n",
       "       'cylinders', 'fuel', 'odometer', 'title_status', 'transmission', 'vin',\n",
       "       'drive', 'size', 'type', 'paint_color', 'description', 'county',\n",
       "       'state', 'lat', 'long'],\n",
       "      dtype='object')"
      ]
     },
     "execution_count": 11,
     "metadata": {},
     "output_type": "execute_result"
    }
   ],
   "source": [
    "vehicles.columns"
   ]
  },
  {
   "cell_type": "code",
   "execution_count": 12,
   "id": "a705f0ab",
   "metadata": {},
   "outputs": [
    {
     "data": {
      "text/plain": [
       "(26988, 21)"
      ]
     },
     "execution_count": 12,
     "metadata": {},
     "output_type": "execute_result"
    }
   ],
   "source": [
    "vehicles.shape"
   ]
  },
  {
   "cell_type": "code",
   "execution_count": 13,
   "id": "8e5af68d",
   "metadata": {},
   "outputs": [
    {
     "data": {
      "text/plain": [
       "region              0\n",
       "price               0\n",
       "year               50\n",
       "manufacturer     1194\n",
       "model             423\n",
       "condition       11644\n",
       "cylinders       11306\n",
       "fuel              168\n",
       "odometer         4995\n",
       "title_status      137\n",
       "transmission      236\n",
       "vin             10872\n",
       "drive            7996\n",
       "size            18642\n",
       "type             7161\n",
       "paint_color      8790\n",
       "description         3\n",
       "county          26988\n",
       "state               0\n",
       "lat               359\n",
       "long              359\n",
       "dtype: int64"
      ]
     },
     "execution_count": 13,
     "metadata": {},
     "output_type": "execute_result"
    }
   ],
   "source": [
    "vehicles.isnull().sum()"
   ]
  },
  {
   "cell_type": "code",
   "execution_count": 14,
   "id": "120bee8a",
   "metadata": {},
   "outputs": [
    {
     "data": {
      "text/html": [
       "<div>\n",
       "<style scoped>\n",
       "    .dataframe tbody tr th:only-of-type {\n",
       "        vertical-align: middle;\n",
       "    }\n",
       "\n",
       "    .dataframe tbody tr th {\n",
       "        vertical-align: top;\n",
       "    }\n",
       "\n",
       "    .dataframe thead th {\n",
       "        text-align: right;\n",
       "    }\n",
       "</style>\n",
       "<table border=\"1\" class=\"dataframe\">\n",
       "  <thead>\n",
       "    <tr style=\"text-align: right;\">\n",
       "      <th></th>\n",
       "      <th>price</th>\n",
       "      <th>year</th>\n",
       "      <th>odometer</th>\n",
       "      <th>county</th>\n",
       "      <th>lat</th>\n",
       "      <th>long</th>\n",
       "    </tr>\n",
       "  </thead>\n",
       "  <tbody>\n",
       "    <tr>\n",
       "      <th>count</th>\n",
       "      <td>2.698800e+04</td>\n",
       "      <td>26938.000000</td>\n",
       "      <td>2.199300e+04</td>\n",
       "      <td>0.0</td>\n",
       "      <td>26629.000000</td>\n",
       "      <td>26629.000000</td>\n",
       "    </tr>\n",
       "    <tr>\n",
       "      <th>mean</th>\n",
       "      <td>5.511630e+04</td>\n",
       "      <td>2009.924939</td>\n",
       "      <td>9.890055e+04</td>\n",
       "      <td>NaN</td>\n",
       "      <td>37.227607</td>\n",
       "      <td>-96.516176</td>\n",
       "    </tr>\n",
       "    <tr>\n",
       "      <th>std</th>\n",
       "      <td>6.795834e+06</td>\n",
       "      <td>8.873713</td>\n",
       "      <td>1.155220e+05</td>\n",
       "      <td>NaN</td>\n",
       "      <td>5.754137</td>\n",
       "      <td>17.869100</td>\n",
       "    </tr>\n",
       "    <tr>\n",
       "      <th>min</th>\n",
       "      <td>0.000000e+00</td>\n",
       "      <td>1900.000000</td>\n",
       "      <td>0.000000e+00</td>\n",
       "      <td>NaN</td>\n",
       "      <td>-67.501400</td>\n",
       "      <td>-159.376000</td>\n",
       "    </tr>\n",
       "    <tr>\n",
       "      <th>25%</th>\n",
       "      <td>4.450000e+03</td>\n",
       "      <td>2007.000000</td>\n",
       "      <td>4.544400e+04</td>\n",
       "      <td>NaN</td>\n",
       "      <td>33.764300</td>\n",
       "      <td>-117.570000</td>\n",
       "    </tr>\n",
       "    <tr>\n",
       "      <th>50%</th>\n",
       "      <td>9.800000e+03</td>\n",
       "      <td>2012.000000</td>\n",
       "      <td>9.094300e+04</td>\n",
       "      <td>NaN</td>\n",
       "      <td>37.640900</td>\n",
       "      <td>-89.294500</td>\n",
       "    </tr>\n",
       "    <tr>\n",
       "      <th>75%</th>\n",
       "      <td>1.790000e+04</td>\n",
       "      <td>2015.000000</td>\n",
       "      <td>1.354000e+05</td>\n",
       "      <td>NaN</td>\n",
       "      <td>41.590000</td>\n",
       "      <td>-81.739000</td>\n",
       "    </tr>\n",
       "    <tr>\n",
       "      <th>max</th>\n",
       "      <td>1.116081e+09</td>\n",
       "      <td>2021.000000</td>\n",
       "      <td>9.999999e+06</td>\n",
       "      <td>NaN</td>\n",
       "      <td>64.837800</td>\n",
       "      <td>79.900600</td>\n",
       "    </tr>\n",
       "  </tbody>\n",
       "</table>\n",
       "</div>"
      ],
      "text/plain": [
       "              price          year      odometer  county           lat  \\\n",
       "count  2.698800e+04  26938.000000  2.199300e+04     0.0  26629.000000   \n",
       "mean   5.511630e+04   2009.924939  9.890055e+04     NaN     37.227607   \n",
       "std    6.795834e+06      8.873713  1.155220e+05     NaN      5.754137   \n",
       "min    0.000000e+00   1900.000000  0.000000e+00     NaN    -67.501400   \n",
       "25%    4.450000e+03   2007.000000  4.544400e+04     NaN     33.764300   \n",
       "50%    9.800000e+03   2012.000000  9.094300e+04     NaN     37.640900   \n",
       "75%    1.790000e+04   2015.000000  1.354000e+05     NaN     41.590000   \n",
       "max    1.116081e+09   2021.000000  9.999999e+06     NaN     64.837800   \n",
       "\n",
       "               long  \n",
       "count  26629.000000  \n",
       "mean     -96.516176  \n",
       "std       17.869100  \n",
       "min     -159.376000  \n",
       "25%     -117.570000  \n",
       "50%      -89.294500  \n",
       "75%      -81.739000  \n",
       "max       79.900600  "
      ]
     },
     "execution_count": 14,
     "metadata": {},
     "output_type": "execute_result"
    }
   ],
   "source": [
    "vehicles.describe()"
   ]
  },
  {
   "cell_type": "code",
   "execution_count": 15,
   "id": "91f68f40",
   "metadata": {},
   "outputs": [
    {
     "name": "stdout",
     "output_type": "stream",
     "text": [
      "<class 'pandas.core.frame.DataFrame'>\n",
      "RangeIndex: 26988 entries, 0 to 26987\n",
      "Data columns (total 21 columns):\n",
      " #   Column        Non-Null Count  Dtype  \n",
      "---  ------        --------------  -----  \n",
      " 0   region        26988 non-null  object \n",
      " 1   price         26988 non-null  int64  \n",
      " 2   year          26938 non-null  float64\n",
      " 3   manufacturer  25794 non-null  object \n",
      " 4   model         26565 non-null  object \n",
      " 5   condition     15344 non-null  object \n",
      " 6   cylinders     15682 non-null  object \n",
      " 7   fuel          26820 non-null  object \n",
      " 8   odometer      21993 non-null  float64\n",
      " 9   title_status  26851 non-null  object \n",
      " 10  transmission  26752 non-null  object \n",
      " 11  vin           16116 non-null  object \n",
      " 12  drive         18992 non-null  object \n",
      " 13  size          8346 non-null   object \n",
      " 14  type          19827 non-null  object \n",
      " 15  paint_color   18198 non-null  object \n",
      " 16  description   26985 non-null  object \n",
      " 17  county        0 non-null      float64\n",
      " 18  state         26988 non-null  object \n",
      " 19  lat           26629 non-null  float64\n",
      " 20  long          26629 non-null  float64\n",
      "dtypes: float64(5), int64(1), object(15)\n",
      "memory usage: 4.3+ MB\n"
     ]
    }
   ],
   "source": [
    "vehicles.info()"
   ]
  },
  {
   "cell_type": "markdown",
   "id": "6bb0c8a8",
   "metadata": {},
   "source": [
    "## 3.1 Price"
   ]
  },
  {
   "cell_type": "code",
   "execution_count": 17,
   "id": "e5cc3b53",
   "metadata": {},
   "outputs": [
    {
     "data": {
      "image/png": "[encoded data removed]",
      "text/plain": [
       "<Figure size 800x600 with 1 Axes>"
      ]
     },
     "metadata": {},
     "output_type": "display_data"
    }
   ],
   "source": [
    "# Boxplot de la variable 'price'\n",
    "\n",
    "# Tamaño\n",
    "plt.figure(figsize=(8, 6))\n",
    "# Boxplot\n",
    "plt.boxplot(vehicles['price'], vert=False) \n",
    "# Titulo\n",
    "plt.title('Price') \n",
    "# Etiqueta Eje x\n",
    "plt.xlabel('Precio')\n",
    "plt.grid(True)\n",
    "plt.show()"
   ]
  },
  {
   "cell_type": "code",
   "execution_count": 18,
   "id": "dfaa2339",
   "metadata": {},
   "outputs": [
    {
     "data": {
      "text/html": [
       "<div>\n",
       "<style scoped>\n",
       "    .dataframe tbody tr th:only-of-type {\n",
       "        vertical-align: middle;\n",
       "    }\n",
       "\n",
       "    .dataframe tbody tr th {\n",
       "        vertical-align: top;\n",
       "    }\n",
       "\n",
       "    .dataframe thead th {\n",
       "        text-align: right;\n",
       "    }\n",
       "</style>\n",
       "<table border=\"1\" class=\"dataframe\">\n",
       "  <thead>\n",
       "    <tr style=\"text-align: right;\">\n",
       "      <th></th>\n",
       "      <th>region</th>\n",
       "      <th>price</th>\n",
       "      <th>year</th>\n",
       "      <th>manufacturer</th>\n",
       "      <th>model</th>\n",
       "      <th>condition</th>\n",
       "      <th>cylinders</th>\n",
       "      <th>fuel</th>\n",
       "      <th>odometer</th>\n",
       "      <th>title_status</th>\n",
       "      <th>...</th>\n",
       "      <th>vin</th>\n",
       "      <th>drive</th>\n",
       "      <th>size</th>\n",
       "      <th>type</th>\n",
       "      <th>paint_color</th>\n",
       "      <th>description</th>\n",
       "      <th>county</th>\n",
       "      <th>state</th>\n",
       "      <th>lat</th>\n",
       "      <th>long</th>\n",
       "    </tr>\n",
       "  </thead>\n",
       "  <tbody>\n",
       "    <tr>\n",
       "      <th>23969</th>\n",
       "      <td>bend</td>\n",
       "      <td>185997</td>\n",
       "      <td>2019.0</td>\n",
       "      <td>mercedes-benz</td>\n",
       "      <td>g-class amg g 63</td>\n",
       "      <td>NaN</td>\n",
       "      <td>8 cylinders</td>\n",
       "      <td>gas</td>\n",
       "      <td>4703.0</td>\n",
       "      <td>clean</td>\n",
       "      <td>...</td>\n",
       "      <td>WDCYC7HJ8KX318050</td>\n",
       "      <td>4wd</td>\n",
       "      <td>NaN</td>\n",
       "      <td>SUV</td>\n",
       "      <td>NaN</td>\n",
       "      <td>We are by appointment only. Please call to mak...</td>\n",
       "      <td>NaN</td>\n",
       "      <td>or</td>\n",
       "      <td>45.5239</td>\n",
       "      <td>-122.5380</td>\n",
       "    </tr>\n",
       "    <tr>\n",
       "      <th>3838</th>\n",
       "      <td>orange county</td>\n",
       "      <td>199888</td>\n",
       "      <td>2012.0</td>\n",
       "      <td>ferrari</td>\n",
       "      <td>458 italia</td>\n",
       "      <td>excellent</td>\n",
       "      <td>8 cylinders</td>\n",
       "      <td>gas</td>\n",
       "      <td>12000.0</td>\n",
       "      <td>clean</td>\n",
       "      <td>...</td>\n",
       "      <td>NaN</td>\n",
       "      <td>NaN</td>\n",
       "      <td>NaN</td>\n",
       "      <td>NaN</td>\n",
       "      <td>white</td>\n",
       "      <td>Only 12K Miles On This Beautiful 458 Italia Co...</td>\n",
       "      <td>NaN</td>\n",
       "      <td>ca</td>\n",
       "      <td>33.6801</td>\n",
       "      <td>-117.9090</td>\n",
       "    </tr>\n",
       "    <tr>\n",
       "      <th>5081</th>\n",
       "      <td>los angeles</td>\n",
       "      <td>233988</td>\n",
       "      <td>2019.0</td>\n",
       "      <td>NaN</td>\n",
       "      <td>Lamborghini Urus</td>\n",
       "      <td>NaN</td>\n",
       "      <td>NaN</td>\n",
       "      <td>gas</td>\n",
       "      <td>7447.0</td>\n",
       "      <td>clean</td>\n",
       "      <td>...</td>\n",
       "      <td>NaN</td>\n",
       "      <td>NaN</td>\n",
       "      <td>NaN</td>\n",
       "      <td>SUV</td>\n",
       "      <td>white</td>\n",
       "      <td>2019 Lamborghini Urus SUVExterior Color: Bianc...</td>\n",
       "      <td>NaN</td>\n",
       "      <td>ca</td>\n",
       "      <td>34.1687</td>\n",
       "      <td>-118.3710</td>\n",
       "    </tr>\n",
       "    <tr>\n",
       "      <th>6068</th>\n",
       "      <td>odessa / midland</td>\n",
       "      <td>266499</td>\n",
       "      <td>2018.0</td>\n",
       "      <td>NaN</td>\n",
       "      <td>LAMBORGHINI HURRACAN</td>\n",
       "      <td>NaN</td>\n",
       "      <td>NaN</td>\n",
       "      <td>gas</td>\n",
       "      <td>4130.0</td>\n",
       "      <td>clean</td>\n",
       "      <td>...</td>\n",
       "      <td>ZHWUD4ZFXJLA09111</td>\n",
       "      <td>NaN</td>\n",
       "      <td>NaN</td>\n",
       "      <td>coupe</td>\n",
       "      <td>white</td>\n",
       "      <td>2018 Lamborghini Huracan Performante     Offer...</td>\n",
       "      <td>NaN</td>\n",
       "      <td>tx</td>\n",
       "      <td>33.0178</td>\n",
       "      <td>-96.6909</td>\n",
       "    </tr>\n",
       "    <tr>\n",
       "      <th>3697</th>\n",
       "      <td>poconos</td>\n",
       "      <td>270000</td>\n",
       "      <td>2013.0</td>\n",
       "      <td>dodge</td>\n",
       "      <td>challenger</td>\n",
       "      <td>like new</td>\n",
       "      <td>8 cylinders</td>\n",
       "      <td>gas</td>\n",
       "      <td>22000.0</td>\n",
       "      <td>clean</td>\n",
       "      <td>...</td>\n",
       "      <td>NaN</td>\n",
       "      <td>rwd</td>\n",
       "      <td>mid-size</td>\n",
       "      <td>coupe</td>\n",
       "      <td>purple</td>\n",
       "      <td>Plum crazy srt 8 with 22000 original miles. Pe...</td>\n",
       "      <td>NaN</td>\n",
       "      <td>pa</td>\n",
       "      <td>40.9748</td>\n",
       "      <td>-75.5842</td>\n",
       "    </tr>\n",
       "    <tr>\n",
       "      <th>10406</th>\n",
       "      <td>palm springs</td>\n",
       "      <td>275000</td>\n",
       "      <td>1971.0</td>\n",
       "      <td>ferrari</td>\n",
       "      <td>365 gtc/4</td>\n",
       "      <td>NaN</td>\n",
       "      <td>12 cylinders</td>\n",
       "      <td>gas</td>\n",
       "      <td>34010.0</td>\n",
       "      <td>NaN</td>\n",
       "      <td>...</td>\n",
       "      <td>F101AC10014633</td>\n",
       "      <td>rwd</td>\n",
       "      <td>NaN</td>\n",
       "      <td>coupe</td>\n",
       "      <td>red</td>\n",
       "      <td>1971 *Ferrari* *365 GTC/4*  Coupe - $275,000Ca...</td>\n",
       "      <td>NaN</td>\n",
       "      <td>ca</td>\n",
       "      <td>33.6016</td>\n",
       "      <td>-116.1630</td>\n",
       "    </tr>\n",
       "    <tr>\n",
       "      <th>1449</th>\n",
       "      <td>pensacola</td>\n",
       "      <td>1234567</td>\n",
       "      <td>1987.0</td>\n",
       "      <td>gmc</td>\n",
       "      <td>sierra</td>\n",
       "      <td>excellent</td>\n",
       "      <td>8 cylinders</td>\n",
       "      <td>gas</td>\n",
       "      <td>NaN</td>\n",
       "      <td>clean</td>\n",
       "      <td>...</td>\n",
       "      <td>NaN</td>\n",
       "      <td>rwd</td>\n",
       "      <td>NaN</td>\n",
       "      <td>NaN</td>\n",
       "      <td>NaN</td>\n",
       "      <td>Two owner. Interior redone. New radio and spea...</td>\n",
       "      <td>NaN</td>\n",
       "      <td>fl</td>\n",
       "      <td>30.6698</td>\n",
       "      <td>-87.1794</td>\n",
       "    </tr>\n",
       "    <tr>\n",
       "      <th>12933</th>\n",
       "      <td>kenosha-racine</td>\n",
       "      <td>1234567</td>\n",
       "      <td>1991.0</td>\n",
       "      <td>ford</td>\n",
       "      <td>mustang</td>\n",
       "      <td>good</td>\n",
       "      <td>8 cylinders</td>\n",
       "      <td>gas</td>\n",
       "      <td>NaN</td>\n",
       "      <td>clean</td>\n",
       "      <td>...</td>\n",
       "      <td>NaN</td>\n",
       "      <td>rwd</td>\n",
       "      <td>NaN</td>\n",
       "      <td>NaN</td>\n",
       "      <td>NaN</td>\n",
       "      <td>91 Ford Mustang, GT-40,E303 cam, BBK exhaust, ...</td>\n",
       "      <td>NaN</td>\n",
       "      <td>wi</td>\n",
       "      <td>14.4035</td>\n",
       "      <td>-103.5560</td>\n",
       "    </tr>\n",
       "    <tr>\n",
       "      <th>23703</th>\n",
       "      <td>dayton / springfield</td>\n",
       "      <td>28003500</td>\n",
       "      <td>2007.0</td>\n",
       "      <td>chevrolet</td>\n",
       "      <td>impala lt</td>\n",
       "      <td>good</td>\n",
       "      <td>6 cylinders</td>\n",
       "      <td>gas</td>\n",
       "      <td>2000.0</td>\n",
       "      <td>clean</td>\n",
       "      <td>...</td>\n",
       "      <td>NaN</td>\n",
       "      <td>fwd</td>\n",
       "      <td>NaN</td>\n",
       "      <td>NaN</td>\n",
       "      <td>blue</td>\n",
       "      <td>07 CHEVY IMPALA LT 3.5L V6 200K MILES PWR WIND...</td>\n",
       "      <td>NaN</td>\n",
       "      <td>oh</td>\n",
       "      <td>39.7982</td>\n",
       "      <td>-84.3211</td>\n",
       "    </tr>\n",
       "    <tr>\n",
       "      <th>19141</th>\n",
       "      <td>gainesville</td>\n",
       "      <td>1116080943</td>\n",
       "      <td>2012.0</td>\n",
       "      <td>honda</td>\n",
       "      <td>civic</td>\n",
       "      <td>excellent</td>\n",
       "      <td>NaN</td>\n",
       "      <td>gas</td>\n",
       "      <td>98090.0</td>\n",
       "      <td>clean</td>\n",
       "      <td>...</td>\n",
       "      <td>2HGFG3B56CH547145</td>\n",
       "      <td>fwd</td>\n",
       "      <td>NaN</td>\n",
       "      <td>coupe</td>\n",
       "      <td>red</td>\n",
       "      <td>2012 Honda Civic LX Coupe 2D Coupe   Ready To ...</td>\n",
       "      <td>NaN</td>\n",
       "      <td>fl</td>\n",
       "      <td>29.6732</td>\n",
       "      <td>-82.3226</td>\n",
       "    </tr>\n",
       "  </tbody>\n",
       "</table>\n",
       "<p>10 rows × 21 columns</p>\n",
       "</div>"
      ],
      "text/plain": [
       "                     region       price    year   manufacturer  \\\n",
       "23969                  bend      185997  2019.0  mercedes-benz   \n",
       "3838          orange county      199888  2012.0        ferrari   \n",
       "5081            los angeles      233988  2019.0            NaN   \n",
       "6068       odessa / midland      266499  2018.0            NaN   \n",
       "3697                poconos      270000  2013.0          dodge   \n",
       "10406          palm springs      275000  1971.0        ferrari   \n",
       "1449              pensacola     1234567  1987.0            gmc   \n",
       "12933        kenosha-racine     1234567  1991.0           ford   \n",
       "23703  dayton / springfield    28003500  2007.0      chevrolet   \n",
       "19141           gainesville  1116080943  2012.0          honda   \n",
       "\n",
       "                      model  condition     cylinders fuel  odometer  \\\n",
       "23969      g-class amg g 63        NaN   8 cylinders  gas    4703.0   \n",
       "3838             458 italia  excellent   8 cylinders  gas   12000.0   \n",
       "5081       Lamborghini Urus        NaN           NaN  gas    7447.0   \n",
       "6068   LAMBORGHINI HURRACAN        NaN           NaN  gas    4130.0   \n",
       "3697             challenger   like new   8 cylinders  gas   22000.0   \n",
       "10406             365 gtc/4        NaN  12 cylinders  gas   34010.0   \n",
       "1449                 sierra  excellent   8 cylinders  gas       NaN   \n",
       "12933               mustang       good   8 cylinders  gas       NaN   \n",
       "23703             impala lt       good   6 cylinders  gas    2000.0   \n",
       "19141                 civic  excellent           NaN  gas   98090.0   \n",
       "\n",
       "      title_status  ...                vin drive      size   type paint_color  \\\n",
       "23969        clean  ...  WDCYC7HJ8KX318050   4wd       NaN    SUV         NaN   \n",
       "3838         clean  ...                NaN   NaN       NaN    NaN       white   \n",
       "5081         clean  ...                NaN   NaN       NaN    SUV       white   \n",
       "6068         clean  ...  ZHWUD4ZFXJLA09111   NaN       NaN  coupe       white   \n",
       "3697         clean  ...                NaN   rwd  mid-size  coupe      purple   \n",
       "10406          NaN  ...     F101AC10014633   rwd       NaN  coupe         red   \n",
       "1449         clean  ...                NaN   rwd       NaN    NaN         NaN   \n",
       "12933        clean  ...                NaN   rwd       NaN    NaN         NaN   \n",
       "23703        clean  ...                NaN   fwd       NaN    NaN        blue   \n",
       "19141        clean  ...  2HGFG3B56CH547145   fwd       NaN  coupe         red   \n",
       "\n",
       "                                             description county  state  \\\n",
       "23969  We are by appointment only. Please call to mak...    NaN     or   \n",
       "3838   Only 12K Miles On This Beautiful 458 Italia Co...    NaN     ca   \n",
       "5081   2019 Lamborghini Urus SUVExterior Color: Bianc...    NaN     ca   \n",
       "6068   2018 Lamborghini Huracan Performante     Offer...    NaN     tx   \n",
       "3697   Plum crazy srt 8 with 22000 original miles. Pe...    NaN     pa   \n",
       "10406  1971 *Ferrari* *365 GTC/4*  Coupe - $275,000Ca...    NaN     ca   \n",
       "1449   Two owner. Interior redone. New radio and spea...    NaN     fl   \n",
       "12933  91 Ford Mustang, GT-40,E303 cam, BBK exhaust, ...    NaN     wi   \n",
       "23703  07 CHEVY IMPALA LT 3.5L V6 200K MILES PWR WIND...    NaN     oh   \n",
       "19141  2012 Honda Civic LX Coupe 2D Coupe   Ready To ...    NaN     fl   \n",
       "\n",
       "           lat      long  \n",
       "23969  45.5239 -122.5380  \n",
       "3838   33.6801 -117.9090  \n",
       "5081   34.1687 -118.3710  \n",
       "6068   33.0178  -96.6909  \n",
       "3697   40.9748  -75.5842  \n",
       "10406  33.6016 -116.1630  \n",
       "1449   30.6698  -87.1794  \n",
       "12933  14.4035 -103.5560  \n",
       "23703  39.7982  -84.3211  \n",
       "19141  29.6732  -82.3226  \n",
       "\n",
       "[10 rows x 21 columns]"
      ]
     },
     "execution_count": 18,
     "metadata": {},
     "output_type": "execute_result"
    }
   ],
   "source": [
    "# Se observan valores atípicos\n",
    "\n",
    "# Se ordenan los datos por la variable 'price'\n",
    "vehicles.sort_values(by='price').tail(10)\n"
   ]
  },
  {
   "cell_type": "code",
   "execution_count": 19,
   "id": "5cb9e80c",
   "metadata": {},
   "outputs": [],
   "source": [
    "# Se crea un nuevo DataFrame en el que se elimina las observaciones especificadas por sus índices\n",
    "\n",
    "vehicles_adj = vehicles.drop([1449, 12933, 23703, 19141])"
   ]
  },
  {
   "cell_type": "code",
   "execution_count": 20,
   "id": "7b58ca53",
   "metadata": {},
   "outputs": [
    {
     "data": {
      "image/png": "[encoded data removed]",
      "text/plain": [
       "<Figure size 800x600 with 1 Axes>"
      ]
     },
     "metadata": {},
     "output_type": "display_data"
    }
   ],
   "source": [
    "# Boxplot de la variable sin los valores atípicos\n",
    "plt.figure(figsize=(8, 6)) \n",
    "plt.boxplot(vehicles_adj['price'], vert=False) \n",
    "plt.title('Boxplot de la variable Price')\n",
    "plt.xlabel('Precio')  \n",
    "plt.grid(True)  \n",
    "plt.show()"
   ]
  },
  {
   "cell_type": "code",
   "execution_count": 21,
   "id": "c9413e4f",
   "metadata": {},
   "outputs": [
    {
     "data": {
      "image/png": "[encoded data removed]",
      "text/plain": [
       "<Figure size 1000x600 with 1 Axes>"
      ]
     },
     "metadata": {},
     "output_type": "display_data"
    }
   ],
   "source": [
    "# Definir los intervalos\n",
    "intervalos = range(0, max(vehicles_adj['price']) + 5000, 5000)\n",
    "\n",
    "# Crear el histograma\n",
    "plt.figure(figsize=(10, 6))  # Tamaño de la gráfica\n",
    "plt.hist(vehicles_adj['price'], bins=intervalos, edgecolor='black')  # Crear el histograma\n",
    "plt.title('Histograma de Precios')  # Título de la gráfica\n",
    "plt.xlabel('Precio')  # Etiqueta del eje x\n",
    "plt.ylabel('Frecuencia')  # Etiqueta del eje y\n",
    "plt.grid(True)  # Agregar una cuadrícula al gráfico\n",
    "plt.show()"
   ]
  },
  {
   "cell_type": "code",
   "execution_count": 22,
   "id": "d7a72457",
   "metadata": {},
   "outputs": [
    {
     "data": {
      "image/png": "[encoded data removed]",
      "text/plain": [
       "<Figure size 1000x600 with 1 Axes>"
      ]
     },
     "metadata": {},
     "output_type": "display_data"
    }
   ],
   "source": [
    "# Definir los intervalos\n",
    "intervalos = range(0, max(vehicles_adj['price']) + 5000, 5000)\n",
    "\n",
    "# Crear el histograma con escala logarítmica en el eje y\n",
    "plt.figure(figsize=(10, 6))  # Tamaño de la gráfica\n",
    "plt.hist(vehicles['price'], bins=intervalos, edgecolor='black')  # Crear el histograma\n",
    "plt.yscale('log')  # Escala logarítmica en el eje y\n",
    "plt.title('Histograma de Precios (Escala Logarítmica)')  # Título de la gráfica\n",
    "plt.xlabel('Precio')  # Etiqueta del eje x\n",
    "plt.ylabel('Frecuencia (log)')  # Etiqueta del eje y\n",
    "plt.grid(True)  # Agregar una cuadrícula al gráfico\n",
    "plt.show()"
   ]
  },
  {
   "cell_type": "code",
   "execution_count": 23,
   "id": "663ab43b",
   "metadata": {},
   "outputs": [
    {
     "data": {
      "text/plain": [
       "24419"
      ]
     },
     "execution_count": 23,
     "metadata": {},
     "output_type": "execute_result"
    }
   ],
   "source": [
    "# Se define un mínimo de 100 USD para el precio\n",
    "# Cuenta cuántas observaciones > 100\n",
    "(vehicles_adj['price'] >= 100).sum()"
   ]
  },
  {
   "cell_type": "code",
   "execution_count": 25,
   "id": "632cfcbd",
   "metadata": {},
   "outputs": [],
   "source": [
    "# Cuenta cuántas observaciones tienen precio de 0\n",
    "vehicles_adj = vehicles_adj[vehicles_adj['price'] >= 100]"
   ]
  },
  {
   "cell_type": "code",
   "execution_count": 26,
   "id": "83476cee",
   "metadata": {},
   "outputs": [
    {
     "data": {
      "text/plain": [
       "90.79720383728713"
      ]
     },
     "execution_count": 26,
     "metadata": {},
     "output_type": "execute_result"
    }
   ],
   "source": [
    "24419/26894 * 100"
   ]
  },
  {
   "cell_type": "markdown",
   "id": "bd982bb0",
   "metadata": {},
   "source": [
    "## 3.1.2 Log Price"
   ]
  },
  {
   "cell_type": "code",
   "execution_count": 27,
   "id": "23304c48",
   "metadata": {},
   "outputs": [],
   "source": [
    "# Se crea una variable con el logaritmo del precio\n",
    "vehicles_adj['log_price'] = np.log(vehicles_adj['price'])"
   ]
  },
  {
   "cell_type": "markdown",
   "id": "9954b6c1",
   "metadata": {},
   "source": [
    "## 3.3 Manufacturer"
   ]
  },
  {
   "cell_type": "code",
   "execution_count": 30,
   "id": "f0237b80",
   "metadata": {},
   "outputs": [
    {
     "name": "stdout",
     "output_type": "stream",
     "text": [
      "1040  valores nulos\n",
      "3.85 % de valores nulos\n"
     ]
    }
   ],
   "source": [
    "# Valores faltantes\n",
    "a = vehicles_adj['manufacturer'].isnull().sum()\n",
    "print (a, ' valores nulos')\n",
    "print (round(a / len(vehicles['manufacturer'])*100, 2), '% de valores nulos')"
   ]
  },
  {
   "cell_type": "code",
   "execution_count": 31,
   "id": "6dd91b87",
   "metadata": {},
   "outputs": [
    {
     "data": {
      "text/plain": [
       "manufacturer\n",
       "ford               4506\n",
       "chevrolet          3495\n",
       "toyota             1917\n",
       "nissan             1309\n",
       "honda              1265\n",
       "ram                1122\n",
       "gmc                1063\n",
       "jeep               1049\n",
       "dodge               834\n",
       "bmw                 755\n",
       "mercedes-benz       614\n",
       "hyundai             582\n",
       "volkswagen          483\n",
       "subaru              483\n",
       "kia                 422\n",
       "chrysler            388\n",
       "cadillac            374\n",
       "buick               332\n",
       "lexus               317\n",
       "audi                295\n",
       "mazda               262\n",
       "infiniti            205\n",
       "acura               192\n",
       "lincoln             168\n",
       "pontiac             150\n",
       "volvo               146\n",
       "mitsubishi          116\n",
       "mini                110\n",
       "mercury              97\n",
       "saturn               93\n",
       "rover                80\n",
       "jaguar               65\n",
       "fiat                 50\n",
       "tesla                15\n",
       "harley-davidson       8\n",
       "alfa-romeo            6\n",
       "ferrari               4\n",
       "land rover            3\n",
       "porche                2\n",
       "datsun                2\n",
       "Name: count, dtype: int64"
      ]
     },
     "execution_count": 31,
     "metadata": {},
     "output_type": "execute_result"
    }
   ],
   "source": [
    "vehicles_adj['manufacturer'].value_counts()"
   ]
  },
  {
   "cell_type": "markdown",
   "id": "ea88f0ff",
   "metadata": {},
   "source": [
    "## 3.4 Model"
   ]
  },
  {
   "cell_type": "code",
   "execution_count": 33,
   "id": "7cff8249",
   "metadata": {},
   "outputs": [
    {
     "name": "stdout",
     "output_type": "stream",
     "text": [
      "359  valores nulos\n",
      "1.47 % de valores nulos\n"
     ]
    }
   ],
   "source": [
    "# Valores faltantes\n",
    "a = vehicles_adj['model'].isnull().sum()\n",
    "print (a, ' valores nulos')\n",
    "print (round(a / len(vehicles_adj['model'])*100, 2), '% de valores nulos')"
   ]
  },
  {
   "cell_type": "code",
   "execution_count": 34,
   "id": "efc834de",
   "metadata": {},
   "outputs": [
    {
     "data": {
      "text/plain": [
       "model\n",
       "f-150                        535\n",
       "1500                         295\n",
       "silverado 1500               288\n",
       "silverado                    256\n",
       "civic                        191\n",
       "                            ... \n",
       "impreza outback sport awd      1\n",
       "cherokee xj limited            1\n",
       "HONDA\\ODYSSEY                  1\n",
       "silverado 3500hd 4x4           1\n",
       "xt5                            1\n",
       "Name: count, Length: 6034, dtype: int64"
      ]
     },
     "execution_count": 34,
     "metadata": {},
     "output_type": "execute_result"
    }
   ],
   "source": [
    "vehicles_adj['model'].value_counts()"
   ]
  },
  {
   "cell_type": "markdown",
   "id": "1546c5eb",
   "metadata": {},
   "source": [
    "## 3.5 Condition"
   ]
  },
  {
   "cell_type": "code",
   "execution_count": 35,
   "id": "ceb7d348",
   "metadata": {},
   "outputs": [
    {
     "name": "stdout",
     "output_type": "stream",
     "text": [
      "10010  valores faltantes\n",
      "40.99 % de valores nulos\n"
     ]
    }
   ],
   "source": [
    "# Valores faltantes\n",
    "a = vehicles_adj['condition'].isnull().sum()\n",
    "print(a, ' valores faltantes')\n",
    "print(round(a / len(vehicles_adj['condition'])*100,2),'% de valores nulos')"
   ]
  },
  {
   "cell_type": "code",
   "execution_count": 36,
   "id": "7f9fd209",
   "metadata": {
    "scrolled": false
   },
   "outputs": [
    {
     "data": {
      "text/plain": [
       "condition\n",
       "excellent    6670\n",
       "good         5841\n",
       "like new     1401\n",
       "fair          397\n",
       "new            59\n",
       "salvage        41\n",
       "Name: count, dtype: int64"
      ]
     },
     "execution_count": 36,
     "metadata": {},
     "output_type": "execute_result"
    }
   ],
   "source": [
    "vehicles_adj['condition'].value_counts()"
   ]
  },
  {
   "cell_type": "code",
   "execution_count": 37,
   "id": "cff9b263",
   "metadata": {},
   "outputs": [],
   "source": [
    "# Reemplazar los valores nulos en la columna 'condition' por 'unknown'\n",
    "vehicles_adj['condition'].fillna('unknown', inplace=True)"
   ]
  },
  {
   "cell_type": "code",
   "execution_count": 38,
   "id": "1236b85c",
   "metadata": {},
   "outputs": [
    {
     "data": {
      "text/plain": [
       "condition\n",
       "unknown      10010\n",
       "excellent     6670\n",
       "good          5841\n",
       "like new      1401\n",
       "fair           397\n",
       "new             59\n",
       "salvage         41\n",
       "Name: count, dtype: int64"
      ]
     },
     "execution_count": 38,
     "metadata": {},
     "output_type": "execute_result"
    }
   ],
   "source": [
    "vehicles_adj['condition'].value_counts()"
   ]
  },
  {
   "cell_type": "markdown",
   "id": "5520802b",
   "metadata": {},
   "source": [
    "## 3.6 Cylinders"
   ]
  },
  {
   "cell_type": "code",
   "execution_count": 39,
   "id": "002975ff",
   "metadata": {},
   "outputs": [
    {
     "name": "stdout",
     "output_type": "stream",
     "text": [
      "9986  valores faltantes\n",
      "40.89 % de valores nulos\n"
     ]
    }
   ],
   "source": [
    "# Se observa un valor alto de valores faltantes\n",
    "a = vehicles_adj['cylinders'].isnull().sum()\n",
    "print(a, ' valores faltantes')\n",
    "print(round(a / len(vehicles_adj['cylinders'])*100,2),'% de valores nulos')"
   ]
  },
  {
   "cell_type": "code",
   "execution_count": 40,
   "id": "50f0e74c",
   "metadata": {},
   "outputs": [
    {
     "data": {
      "text/plain": [
       "cylinders\n",
       "6 cylinders     5213\n",
       "8 cylinders     4481\n",
       "4 cylinders     4443\n",
       "5 cylinders      123\n",
       "10 cylinders      74\n",
       "other             45\n",
       "3 cylinders       39\n",
       "12 cylinders      15\n",
       "Name: count, dtype: int64"
      ]
     },
     "execution_count": 40,
     "metadata": {},
     "output_type": "execute_result"
    }
   ],
   "source": [
    "vehicles_adj['cylinders'].value_counts()"
   ]
  },
  {
   "cell_type": "markdown",
   "id": "972d9844",
   "metadata": {},
   "source": [
    "## 3.7 Fuel"
   ]
  },
  {
   "cell_type": "code",
   "execution_count": 41,
   "id": "f0a2124f",
   "metadata": {},
   "outputs": [
    {
     "name": "stdout",
     "output_type": "stream",
     "text": [
      "153  valores faltantes\n",
      "0.63 % de valores nulos\n"
     ]
    }
   ],
   "source": [
    "# Valores faltantes\n",
    "a = vehicles_adj['fuel'].isnull().sum()\n",
    "print(a, ' valores faltantes')\n",
    "print(round(a / len(vehicles_adj['fuel'])*100,2),'% de valores nulos')"
   ]
  },
  {
   "cell_type": "code",
   "execution_count": 42,
   "id": "ee16de49",
   "metadata": {
    "scrolled": false
   },
   "outputs": [
    {
     "data": {
      "text/plain": [
       "fuel\n",
       "gas         21323\n",
       "diesel       1935\n",
       "other         717\n",
       "hybrid        232\n",
       "electric       59\n",
       "Name: count, dtype: int64"
      ]
     },
     "execution_count": 42,
     "metadata": {},
     "output_type": "execute_result"
    }
   ],
   "source": [
    "#Categorias\n",
    "vehicles_adj['fuel'].value_counts()"
   ]
  },
  {
   "cell_type": "markdown",
   "id": "ed102c2d",
   "metadata": {},
   "source": [
    "## 3.8 Odometer"
   ]
  },
  {
   "cell_type": "code",
   "execution_count": 43,
   "id": "8e53aba6",
   "metadata": {},
   "outputs": [
    {
     "data": {
      "image/png": "[encoded data removed]",
      "text/plain": [
       "<Figure size 1000x600 with 1 Axes>"
      ]
     },
     "metadata": {},
     "output_type": "display_data"
    }
   ],
   "source": [
    "# Definir los intervalos\n",
    "# Crear el histograma\n",
    "plt.figure(figsize=(10, 6))  # Tamaño de la gráfica\n",
    "plt.hist(vehicles_adj['odometer'], bins=intervalos, edgecolor='black')  # Crear el histograma\n",
    "plt.title('Odometer')  # Título de la gráfica\n",
    "plt.xlabel('Odometer')  # Etiqueta del eje x\n",
    "plt.ylabel('Frecuency')  # Etiqueta del eje y\n",
    "plt.grid(True)  # Agregar una cuadrícula al gráfico\n",
    "plt.show()"
   ]
  },
  {
   "cell_type": "code",
   "execution_count": 44,
   "id": "8bef4ab1",
   "metadata": {},
   "outputs": [
    {
     "data": {
      "image/png": "[encoded data removed]",
      "text/plain": [
       "<Figure size 800x600 with 1 Axes>"
      ]
     },
     "metadata": {},
     "output_type": "display_data"
    }
   ],
   "source": [
    "# Configuración del tamaño de la gráfica\n",
    "plt.figure(figsize=(8, 6))\n",
    "\n",
    "# Creación del boxplot de la variable 'odometer' utilizando Seaborn\n",
    "sns.boxplot(x='odometer', data=vehicles_adj)\n",
    "\n",
    "# Título del gráfico\n",
    "plt.title('Boxplot de la variable Odometer')\n",
    "\n",
    "# Etiqueta del eje x\n",
    "plt.xlabel('Odometer')\n",
    "\n",
    "# Muestra el gráfico\n",
    "plt.show()"
   ]
  },
  {
   "cell_type": "code",
   "execution_count": 45,
   "id": "6096e8fb",
   "metadata": {},
   "outputs": [],
   "source": [
    "# Encuentra los tres valores más altos de la columna 'odometer'\n",
    "valores_atipicos = vehicles_adj['odometer'].nlargest(4)\n",
    "\n",
    "# Elimina las filas que contienen estos valores altos\n",
    "vehicles_adj = vehicles_adj.drop(valores_atipicos.index)"
   ]
  },
  {
   "cell_type": "code",
   "execution_count": 46,
   "id": "43983e83",
   "metadata": {},
   "outputs": [
    {
     "data": {
      "image/png": "[encoded data removed]",
      "text/plain": [
       "<Figure size 800x600 with 1 Axes>"
      ]
     },
     "metadata": {},
     "output_type": "display_data"
    }
   ],
   "source": [
    "# Configuración del tamaño de la gráfica\n",
    "plt.figure(figsize=(8, 6))\n",
    "\n",
    "# Creación del boxplot de la variable 'odometer' utilizando Seaborn\n",
    "sns.boxplot(x='odometer', data=vehicles_adj)\n",
    "\n",
    "# Título del gráfico\n",
    "plt.title('Boxplot de la variable Odometer')\n",
    "\n",
    "# Etiqueta del eje x\n",
    "plt.xlabel('Odometer')\n",
    "\n",
    "# Muestra el gráfico\n",
    "plt.show()"
   ]
  },
  {
   "cell_type": "markdown",
   "id": "9d6aa68d",
   "metadata": {},
   "source": [
    "## 3.9 Title Status"
   ]
  },
  {
   "cell_type": "code",
   "execution_count": 48,
   "id": "4a7f507c",
   "metadata": {},
   "outputs": [
    {
     "name": "stdout",
     "output_type": "stream",
     "text": [
      "106  Valores nulos\n",
      "0.43  % Valores nulos\n",
      "6 valores únicos\n"
     ]
    }
   ],
   "source": [
    "# Vehicle Identification Number\n",
    "# Is a unique identifier and does not give information useful for the model\n",
    "a = vehicles_adj['title_status'].isnull().sum()\n",
    "print(a, ' Valores nulos')\n",
    "print(round(a / len(vehicles_adj['title_status']) * 100, 2), ' % Valores nulos')\n",
    "b = vehicles_adj['title_status'].nunique()\n",
    "print (b, 'valores únicos')"
   ]
  },
  {
   "cell_type": "markdown",
   "id": "b2b40f89",
   "metadata": {},
   "source": [
    "## 3.10 Transmission"
   ]
  },
  {
   "cell_type": "code",
   "execution_count": 50,
   "id": "015d412d",
   "metadata": {},
   "outputs": [
    {
     "name": "stdout",
     "output_type": "stream",
     "text": [
      "211  Valores nulos\n",
      "0.86  % Valores nulos\n",
      "3 valores únicos\n"
     ]
    }
   ],
   "source": [
    "# Valores nulos\n",
    "a = vehicles_adj['transmission'].isnull().sum()\n",
    "print(a, ' Valores nulos')\n",
    "print(round(a / len(vehicles_adj['transmission']) * 100, 2), ' % Valores nulos')\n",
    "b = vehicles_adj['transmission'].nunique()\n",
    "print (b, 'valores únicos')"
   ]
  },
  {
   "cell_type": "code",
   "execution_count": 51,
   "id": "9e882de3",
   "metadata": {
    "scrolled": true
   },
   "outputs": [
    {
     "data": {
      "text/plain": [
       "transmission\n",
       "automatic    21282\n",
       "manual        1646\n",
       "other         1276\n",
       "Name: count, dtype: int64"
      ]
     },
     "execution_count": 51,
     "metadata": {},
     "output_type": "execute_result"
    }
   ],
   "source": [
    "# Valores nulos\n",
    "vehicles_adj['transmission'].value_counts()"
   ]
  },
  {
   "cell_type": "markdown",
   "id": "be06aae5",
   "metadata": {},
   "source": [
    "## 3.11 Vin"
   ]
  },
  {
   "cell_type": "code",
   "execution_count": 53,
   "id": "40a68c0a",
   "metadata": {},
   "outputs": [
    {
     "name": "stdout",
     "output_type": "stream",
     "text": [
      "44.53  % Valores nulos\n",
      "10872  Valores nulos\n",
      "14809 valores únicos\n"
     ]
    }
   ],
   "source": [
    "# Vehicle Identification Number\n",
    "# Is a unique identifier and does not give information useful for the model\n",
    "a = vehicles['vin'].isnull().sum()\n",
    "print(round(a / len(vehicles_adj['vin']) * 100, 2), ' % Valores nulos')\n",
    "print(a, ' Valores nulos')\n",
    "\n",
    "b = vehicles['vin'].nunique()\n",
    "print (b, 'valores únicos')"
   ]
  },
  {
   "cell_type": "code",
   "execution_count": 54,
   "id": "d513fd00",
   "metadata": {},
   "outputs": [
    {
     "name": "stdout",
     "output_type": "stream",
     "text": [
      "vin\n",
      "WDZPE7CC9D5767661    13\n",
      "WP0CA2991XS652065     7\n",
      "1ZVBP8FF4C5208577     5\n",
      "3C6UD5FL7CG250072     5\n",
      "000000000000          5\n",
      "JTKKT604260166852     5\n",
      "1FTEW1CP1HKC20511     5\n",
      "2C3CDZBG9FH740753     5\n",
      "1FA6P8TH4H5217450     5\n",
      "1FTNW20F0YEB73052     5\n",
      "1FTEW1CPXGKE39286     5\n",
      "1FT7W2BT2EEB51948     5\n",
      "3C6UD5DL1CG199509     4\n",
      "1J4BA5H1XAL136615     4\n",
      "5GRGN23U53H104188     4\n",
      "3C6UR5CL5EG272533     4\n",
      "1HGCM66556A014875     4\n",
      "2T2HA31U24C027906     4\n",
      "3C6UR5DL1EG217589     4\n",
      "1GB0G2CF4F1120818     4\n",
      "Name: count, dtype: int64\n"
     ]
    }
   ],
   "source": [
    "print(vehicles['vin'].value_counts().head(20))"
   ]
  },
  {
   "cell_type": "code",
   "execution_count": 55,
   "id": "75a8518b",
   "metadata": {},
   "outputs": [
    {
     "data": {
      "text/html": [
       "<div>\n",
       "<style scoped>\n",
       "    .dataframe tbody tr th:only-of-type {\n",
       "        vertical-align: middle;\n",
       "    }\n",
       "\n",
       "    .dataframe tbody tr th {\n",
       "        vertical-align: top;\n",
       "    }\n",
       "\n",
       "    .dataframe thead th {\n",
       "        text-align: right;\n",
       "    }\n",
       "</style>\n",
       "<table border=\"1\" class=\"dataframe\">\n",
       "  <thead>\n",
       "    <tr style=\"text-align: right;\">\n",
       "      <th></th>\n",
       "      <th>region</th>\n",
       "      <th>price</th>\n",
       "      <th>year</th>\n",
       "      <th>manufacturer</th>\n",
       "      <th>model</th>\n",
       "      <th>condition</th>\n",
       "      <th>cylinders</th>\n",
       "      <th>fuel</th>\n",
       "      <th>odometer</th>\n",
       "      <th>title_status</th>\n",
       "      <th>...</th>\n",
       "      <th>vin</th>\n",
       "      <th>drive</th>\n",
       "      <th>size</th>\n",
       "      <th>type</th>\n",
       "      <th>paint_color</th>\n",
       "      <th>description</th>\n",
       "      <th>county</th>\n",
       "      <th>state</th>\n",
       "      <th>lat</th>\n",
       "      <th>long</th>\n",
       "    </tr>\n",
       "  </thead>\n",
       "  <tbody>\n",
       "    <tr>\n",
       "      <th>3363</th>\n",
       "      <td>stockton</td>\n",
       "      <td>34900</td>\n",
       "      <td>2013.0</td>\n",
       "      <td>mercedes-benz</td>\n",
       "      <td>benze sprinter 2500</td>\n",
       "      <td>excellent</td>\n",
       "      <td>6 cylinders</td>\n",
       "      <td>diesel</td>\n",
       "      <td>23893.0</td>\n",
       "      <td>clean</td>\n",
       "      <td>...</td>\n",
       "      <td>WDZPE7CC9D5767661</td>\n",
       "      <td>rwd</td>\n",
       "      <td>NaN</td>\n",
       "      <td>van</td>\n",
       "      <td>black</td>\n",
       "      <td>Call/Text Jim anytime: 936-349-6038  2013 Merc...</td>\n",
       "      <td>NaN</td>\n",
       "      <td>ca</td>\n",
       "      <td>30.9533</td>\n",
       "      <td>-95.9091</td>\n",
       "    </tr>\n",
       "    <tr>\n",
       "      <th>5546</th>\n",
       "      <td>north central FL</td>\n",
       "      <td>34900</td>\n",
       "      <td>2013.0</td>\n",
       "      <td>mercedes-benz</td>\n",
       "      <td>benze sprinter 2500</td>\n",
       "      <td>excellent</td>\n",
       "      <td>6 cylinders</td>\n",
       "      <td>diesel</td>\n",
       "      <td>23893.0</td>\n",
       "      <td>clean</td>\n",
       "      <td>...</td>\n",
       "      <td>WDZPE7CC9D5767661</td>\n",
       "      <td>rwd</td>\n",
       "      <td>NaN</td>\n",
       "      <td>van</td>\n",
       "      <td>black</td>\n",
       "      <td>Call/Text Jim anytime: 936-349-6038  2013 Merc...</td>\n",
       "      <td>NaN</td>\n",
       "      <td>fl</td>\n",
       "      <td>30.9533</td>\n",
       "      <td>-95.9091</td>\n",
       "    </tr>\n",
       "    <tr>\n",
       "      <th>7086</th>\n",
       "      <td>imperial county</td>\n",
       "      <td>34900</td>\n",
       "      <td>2013.0</td>\n",
       "      <td>mercedes-benz</td>\n",
       "      <td>benze sprinter 2500</td>\n",
       "      <td>excellent</td>\n",
       "      <td>6 cylinders</td>\n",
       "      <td>diesel</td>\n",
       "      <td>23893.0</td>\n",
       "      <td>clean</td>\n",
       "      <td>...</td>\n",
       "      <td>WDZPE7CC9D5767661</td>\n",
       "      <td>rwd</td>\n",
       "      <td>NaN</td>\n",
       "      <td>van</td>\n",
       "      <td>black</td>\n",
       "      <td>Call/Text Jim anytime: 936-349-6038  2013 Merc...</td>\n",
       "      <td>NaN</td>\n",
       "      <td>ca</td>\n",
       "      <td>30.9533</td>\n",
       "      <td>-95.9091</td>\n",
       "    </tr>\n",
       "    <tr>\n",
       "      <th>7396</th>\n",
       "      <td>eugene</td>\n",
       "      <td>34900</td>\n",
       "      <td>2013.0</td>\n",
       "      <td>mercedes-benz</td>\n",
       "      <td>benze sprinter 2500</td>\n",
       "      <td>excellent</td>\n",
       "      <td>6 cylinders</td>\n",
       "      <td>diesel</td>\n",
       "      <td>23893.0</td>\n",
       "      <td>clean</td>\n",
       "      <td>...</td>\n",
       "      <td>WDZPE7CC9D5767661</td>\n",
       "      <td>rwd</td>\n",
       "      <td>NaN</td>\n",
       "      <td>van</td>\n",
       "      <td>black</td>\n",
       "      <td>Call/Text Jim anytime: 936-349-6038  2013 Merc...</td>\n",
       "      <td>NaN</td>\n",
       "      <td>or</td>\n",
       "      <td>30.9533</td>\n",
       "      <td>-95.9091</td>\n",
       "    </tr>\n",
       "    <tr>\n",
       "      <th>8319</th>\n",
       "      <td>ventura county</td>\n",
       "      <td>34900</td>\n",
       "      <td>2013.0</td>\n",
       "      <td>mercedes-benz</td>\n",
       "      <td>benze sprinter 2500</td>\n",
       "      <td>excellent</td>\n",
       "      <td>6 cylinders</td>\n",
       "      <td>diesel</td>\n",
       "      <td>23893.0</td>\n",
       "      <td>clean</td>\n",
       "      <td>...</td>\n",
       "      <td>WDZPE7CC9D5767661</td>\n",
       "      <td>rwd</td>\n",
       "      <td>NaN</td>\n",
       "      <td>van</td>\n",
       "      <td>black</td>\n",
       "      <td>Call/Text Jim anytime: 936-349-6038  2013 Merc...</td>\n",
       "      <td>NaN</td>\n",
       "      <td>ca</td>\n",
       "      <td>30.9533</td>\n",
       "      <td>-95.9091</td>\n",
       "    </tr>\n",
       "    <tr>\n",
       "      <th>12116</th>\n",
       "      <td>north jersey</td>\n",
       "      <td>34900</td>\n",
       "      <td>2013.0</td>\n",
       "      <td>mercedes-benz</td>\n",
       "      <td>benze sprinter 2500</td>\n",
       "      <td>excellent</td>\n",
       "      <td>6 cylinders</td>\n",
       "      <td>diesel</td>\n",
       "      <td>23893.0</td>\n",
       "      <td>clean</td>\n",
       "      <td>...</td>\n",
       "      <td>WDZPE7CC9D5767661</td>\n",
       "      <td>rwd</td>\n",
       "      <td>NaN</td>\n",
       "      <td>van</td>\n",
       "      <td>black</td>\n",
       "      <td>Call/Text Jim anytime: 936-349-6038  2013 Merc...</td>\n",
       "      <td>NaN</td>\n",
       "      <td>nj</td>\n",
       "      <td>30.9533</td>\n",
       "      <td>-95.9091</td>\n",
       "    </tr>\n",
       "    <tr>\n",
       "      <th>16689</th>\n",
       "      <td>columbus</td>\n",
       "      <td>34900</td>\n",
       "      <td>2013.0</td>\n",
       "      <td>mercedes-benz</td>\n",
       "      <td>benze sprinter 2500</td>\n",
       "      <td>excellent</td>\n",
       "      <td>6 cylinders</td>\n",
       "      <td>diesel</td>\n",
       "      <td>23893.0</td>\n",
       "      <td>clean</td>\n",
       "      <td>...</td>\n",
       "      <td>WDZPE7CC9D5767661</td>\n",
       "      <td>rwd</td>\n",
       "      <td>NaN</td>\n",
       "      <td>van</td>\n",
       "      <td>black</td>\n",
       "      <td>Call/Text Jim anytime: 936-349-6038  2013 Merc...</td>\n",
       "      <td>NaN</td>\n",
       "      <td>oh</td>\n",
       "      <td>30.9533</td>\n",
       "      <td>-95.9091</td>\n",
       "    </tr>\n",
       "    <tr>\n",
       "      <th>18080</th>\n",
       "      <td>stockton</td>\n",
       "      <td>34900</td>\n",
       "      <td>2013.0</td>\n",
       "      <td>mercedes-benz</td>\n",
       "      <td>benze sprinter 2500</td>\n",
       "      <td>excellent</td>\n",
       "      <td>6 cylinders</td>\n",
       "      <td>diesel</td>\n",
       "      <td>23893.0</td>\n",
       "      <td>clean</td>\n",
       "      <td>...</td>\n",
       "      <td>WDZPE7CC9D5767661</td>\n",
       "      <td>rwd</td>\n",
       "      <td>NaN</td>\n",
       "      <td>van</td>\n",
       "      <td>black</td>\n",
       "      <td>Call/Text Jim anytime: 936-349-6038  2013 Merc...</td>\n",
       "      <td>NaN</td>\n",
       "      <td>ca</td>\n",
       "      <td>30.9533</td>\n",
       "      <td>-95.9091</td>\n",
       "    </tr>\n",
       "    <tr>\n",
       "      <th>18384</th>\n",
       "      <td>lincoln</td>\n",
       "      <td>34900</td>\n",
       "      <td>2013.0</td>\n",
       "      <td>mercedes-benz</td>\n",
       "      <td>benze sprinter 2500</td>\n",
       "      <td>excellent</td>\n",
       "      <td>6 cylinders</td>\n",
       "      <td>diesel</td>\n",
       "      <td>23893.0</td>\n",
       "      <td>clean</td>\n",
       "      <td>...</td>\n",
       "      <td>WDZPE7CC9D5767661</td>\n",
       "      <td>rwd</td>\n",
       "      <td>NaN</td>\n",
       "      <td>van</td>\n",
       "      <td>black</td>\n",
       "      <td>Call/Text Jim anytime: 936-349-6038  2013 Merc...</td>\n",
       "      <td>NaN</td>\n",
       "      <td>ne</td>\n",
       "      <td>30.9533</td>\n",
       "      <td>-95.9091</td>\n",
       "    </tr>\n",
       "    <tr>\n",
       "      <th>21529</th>\n",
       "      <td>space coast</td>\n",
       "      <td>34900</td>\n",
       "      <td>2013.0</td>\n",
       "      <td>mercedes-benz</td>\n",
       "      <td>benze sprinter 2500</td>\n",
       "      <td>excellent</td>\n",
       "      <td>6 cylinders</td>\n",
       "      <td>diesel</td>\n",
       "      <td>23893.0</td>\n",
       "      <td>clean</td>\n",
       "      <td>...</td>\n",
       "      <td>WDZPE7CC9D5767661</td>\n",
       "      <td>rwd</td>\n",
       "      <td>NaN</td>\n",
       "      <td>van</td>\n",
       "      <td>black</td>\n",
       "      <td>Call/Text Jim anytime: 936-349-6038  2013 Merc...</td>\n",
       "      <td>NaN</td>\n",
       "      <td>fl</td>\n",
       "      <td>30.9533</td>\n",
       "      <td>-95.9091</td>\n",
       "    </tr>\n",
       "    <tr>\n",
       "      <th>21897</th>\n",
       "      <td>tampa bay area</td>\n",
       "      <td>34900</td>\n",
       "      <td>2013.0</td>\n",
       "      <td>mercedes-benz</td>\n",
       "      <td>benze sprinter 2500</td>\n",
       "      <td>excellent</td>\n",
       "      <td>6 cylinders</td>\n",
       "      <td>diesel</td>\n",
       "      <td>23893.0</td>\n",
       "      <td>clean</td>\n",
       "      <td>...</td>\n",
       "      <td>WDZPE7CC9D5767661</td>\n",
       "      <td>rwd</td>\n",
       "      <td>NaN</td>\n",
       "      <td>van</td>\n",
       "      <td>black</td>\n",
       "      <td>Call/Text Jim anytime: 936-349-6038  2013 Merc...</td>\n",
       "      <td>NaN</td>\n",
       "      <td>fl</td>\n",
       "      <td>30.9533</td>\n",
       "      <td>-95.9091</td>\n",
       "    </tr>\n",
       "    <tr>\n",
       "      <th>26474</th>\n",
       "      <td>greensboro</td>\n",
       "      <td>34900</td>\n",
       "      <td>2013.0</td>\n",
       "      <td>mercedes-benz</td>\n",
       "      <td>benze sprinter 2500</td>\n",
       "      <td>excellent</td>\n",
       "      <td>6 cylinders</td>\n",
       "      <td>diesel</td>\n",
       "      <td>23893.0</td>\n",
       "      <td>clean</td>\n",
       "      <td>...</td>\n",
       "      <td>WDZPE7CC9D5767661</td>\n",
       "      <td>rwd</td>\n",
       "      <td>NaN</td>\n",
       "      <td>van</td>\n",
       "      <td>black</td>\n",
       "      <td>Call/Text Jim anytime: 936-349-6038  2013 Merc...</td>\n",
       "      <td>NaN</td>\n",
       "      <td>nc</td>\n",
       "      <td>30.9533</td>\n",
       "      <td>-95.9091</td>\n",
       "    </tr>\n",
       "    <tr>\n",
       "      <th>26813</th>\n",
       "      <td>akron / canton</td>\n",
       "      <td>34900</td>\n",
       "      <td>2013.0</td>\n",
       "      <td>mercedes-benz</td>\n",
       "      <td>benze sprinter 2500</td>\n",
       "      <td>excellent</td>\n",
       "      <td>6 cylinders</td>\n",
       "      <td>diesel</td>\n",
       "      <td>23893.0</td>\n",
       "      <td>clean</td>\n",
       "      <td>...</td>\n",
       "      <td>WDZPE7CC9D5767661</td>\n",
       "      <td>rwd</td>\n",
       "      <td>NaN</td>\n",
       "      <td>van</td>\n",
       "      <td>black</td>\n",
       "      <td>Call/Text Jim anytime: 936-349-6038  2013 Merc...</td>\n",
       "      <td>NaN</td>\n",
       "      <td>oh</td>\n",
       "      <td>30.9533</td>\n",
       "      <td>-95.9091</td>\n",
       "    </tr>\n",
       "  </tbody>\n",
       "</table>\n",
       "<p>13 rows × 21 columns</p>\n",
       "</div>"
      ],
      "text/plain": [
       "                 region  price    year   manufacturer                model  \\\n",
       "3363           stockton  34900  2013.0  mercedes-benz  benze sprinter 2500   \n",
       "5546   north central FL  34900  2013.0  mercedes-benz  benze sprinter 2500   \n",
       "7086    imperial county  34900  2013.0  mercedes-benz  benze sprinter 2500   \n",
       "7396             eugene  34900  2013.0  mercedes-benz  benze sprinter 2500   \n",
       "8319     ventura county  34900  2013.0  mercedes-benz  benze sprinter 2500   \n",
       "12116      north jersey  34900  2013.0  mercedes-benz  benze sprinter 2500   \n",
       "16689          columbus  34900  2013.0  mercedes-benz  benze sprinter 2500   \n",
       "18080          stockton  34900  2013.0  mercedes-benz  benze sprinter 2500   \n",
       "18384           lincoln  34900  2013.0  mercedes-benz  benze sprinter 2500   \n",
       "21529       space coast  34900  2013.0  mercedes-benz  benze sprinter 2500   \n",
       "21897    tampa bay area  34900  2013.0  mercedes-benz  benze sprinter 2500   \n",
       "26474        greensboro  34900  2013.0  mercedes-benz  benze sprinter 2500   \n",
       "26813    akron / canton  34900  2013.0  mercedes-benz  benze sprinter 2500   \n",
       "\n",
       "       condition    cylinders    fuel  odometer title_status  ...  \\\n",
       "3363   excellent  6 cylinders  diesel   23893.0        clean  ...   \n",
       "5546   excellent  6 cylinders  diesel   23893.0        clean  ...   \n",
       "7086   excellent  6 cylinders  diesel   23893.0        clean  ...   \n",
       "7396   excellent  6 cylinders  diesel   23893.0        clean  ...   \n",
       "8319   excellent  6 cylinders  diesel   23893.0        clean  ...   \n",
       "12116  excellent  6 cylinders  diesel   23893.0        clean  ...   \n",
       "16689  excellent  6 cylinders  diesel   23893.0        clean  ...   \n",
       "18080  excellent  6 cylinders  diesel   23893.0        clean  ...   \n",
       "18384  excellent  6 cylinders  diesel   23893.0        clean  ...   \n",
       "21529  excellent  6 cylinders  diesel   23893.0        clean  ...   \n",
       "21897  excellent  6 cylinders  diesel   23893.0        clean  ...   \n",
       "26474  excellent  6 cylinders  diesel   23893.0        clean  ...   \n",
       "26813  excellent  6 cylinders  diesel   23893.0        clean  ...   \n",
       "\n",
       "                     vin drive size type paint_color  \\\n",
       "3363   WDZPE7CC9D5767661   rwd  NaN  van       black   \n",
       "5546   WDZPE7CC9D5767661   rwd  NaN  van       black   \n",
       "7086   WDZPE7CC9D5767661   rwd  NaN  van       black   \n",
       "7396   WDZPE7CC9D5767661   rwd  NaN  van       black   \n",
       "8319   WDZPE7CC9D5767661   rwd  NaN  van       black   \n",
       "12116  WDZPE7CC9D5767661   rwd  NaN  van       black   \n",
       "16689  WDZPE7CC9D5767661   rwd  NaN  van       black   \n",
       "18080  WDZPE7CC9D5767661   rwd  NaN  van       black   \n",
       "18384  WDZPE7CC9D5767661   rwd  NaN  van       black   \n",
       "21529  WDZPE7CC9D5767661   rwd  NaN  van       black   \n",
       "21897  WDZPE7CC9D5767661   rwd  NaN  van       black   \n",
       "26474  WDZPE7CC9D5767661   rwd  NaN  van       black   \n",
       "26813  WDZPE7CC9D5767661   rwd  NaN  van       black   \n",
       "\n",
       "                                             description county  state  \\\n",
       "3363   Call/Text Jim anytime: 936-349-6038  2013 Merc...    NaN     ca   \n",
       "5546   Call/Text Jim anytime: 936-349-6038  2013 Merc...    NaN     fl   \n",
       "7086   Call/Text Jim anytime: 936-349-6038  2013 Merc...    NaN     ca   \n",
       "7396   Call/Text Jim anytime: 936-349-6038  2013 Merc...    NaN     or   \n",
       "8319   Call/Text Jim anytime: 936-349-6038  2013 Merc...    NaN     ca   \n",
       "12116  Call/Text Jim anytime: 936-349-6038  2013 Merc...    NaN     nj   \n",
       "16689  Call/Text Jim anytime: 936-349-6038  2013 Merc...    NaN     oh   \n",
       "18080  Call/Text Jim anytime: 936-349-6038  2013 Merc...    NaN     ca   \n",
       "18384  Call/Text Jim anytime: 936-349-6038  2013 Merc...    NaN     ne   \n",
       "21529  Call/Text Jim anytime: 936-349-6038  2013 Merc...    NaN     fl   \n",
       "21897  Call/Text Jim anytime: 936-349-6038  2013 Merc...    NaN     fl   \n",
       "26474  Call/Text Jim anytime: 936-349-6038  2013 Merc...    NaN     nc   \n",
       "26813  Call/Text Jim anytime: 936-349-6038  2013 Merc...    NaN     oh   \n",
       "\n",
       "           lat     long  \n",
       "3363   30.9533 -95.9091  \n",
       "5546   30.9533 -95.9091  \n",
       "7086   30.9533 -95.9091  \n",
       "7396   30.9533 -95.9091  \n",
       "8319   30.9533 -95.9091  \n",
       "12116  30.9533 -95.9091  \n",
       "16689  30.9533 -95.9091  \n",
       "18080  30.9533 -95.9091  \n",
       "18384  30.9533 -95.9091  \n",
       "21529  30.9533 -95.9091  \n",
       "21897  30.9533 -95.9091  \n",
       "26474  30.9533 -95.9091  \n",
       "26813  30.9533 -95.9091  \n",
       "\n",
       "[13 rows x 21 columns]"
      ]
     },
     "execution_count": 55,
     "metadata": {},
     "output_type": "execute_result"
    }
   ],
   "source": [
    "# The same car in different regions\n",
    "\n",
    "vehicles_vin = vehicles[vehicles['vin']=='WDZPE7CC9D5767661']\n",
    "vehicles_vin.head(13)"
   ]
  },
  {
   "cell_type": "markdown",
   "id": "7161e2df",
   "metadata": {},
   "source": [
    "## 3.13 Size"
   ]
  },
  {
   "cell_type": "code",
   "execution_count": 56,
   "id": "542a55f1",
   "metadata": {},
   "outputs": [
    {
     "name": "stdout",
     "output_type": "stream",
     "text": [
      "16951  valores nulos\n",
      "69.43 % de valores nulos\n"
     ]
    }
   ],
   "source": [
    "# Valores Nulos\n",
    "\n",
    "a = vehicles_adj['size'].isnull().sum()\n",
    "print(a, ' valores nulos')\n",
    "print (round(a / len(vehicles_adj['size']) *100, 2), \"% de valores nulos\")"
   ]
  },
  {
   "cell_type": "code",
   "execution_count": 57,
   "id": "cf5524be",
   "metadata": {
    "scrolled": true
   },
   "outputs": [
    {
     "name": "stdout",
     "output_type": "stream",
     "text": [
      "size\n",
      "full-size      4029\n",
      "mid-size       2061\n",
      "compact        1186\n",
      "sub-compact     188\n",
      "Name: count, dtype: int64\n"
     ]
    }
   ],
   "source": [
    "print(vehicles_adj['size'].value_counts())"
   ]
  },
  {
   "cell_type": "markdown",
   "id": "bf0fbd94",
   "metadata": {},
   "source": [
    "## 3.15 Paint Color"
   ]
  },
  {
   "cell_type": "code",
   "execution_count": 58,
   "id": "42955b09",
   "metadata": {},
   "outputs": [
    {
     "name": "stdout",
     "output_type": "stream",
     "text": [
      "8790  valores nulos\n",
      "32.57 % de valores nulos\n"
     ]
    }
   ],
   "source": [
    "# Valores Nulos\n",
    "\n",
    "a = vehicles['paint_color'].isnull().sum()\n",
    "print(a, ' valores nulos')\n",
    "print (round(a / len(vehicles['paint_color']) *100, 2), \"% de valores nulos\")"
   ]
  },
  {
   "cell_type": "code",
   "execution_count": 59,
   "id": "df9ed522",
   "metadata": {
    "scrolled": true
   },
   "outputs": [
    {
     "data": {
      "text/plain": [
       "paint_color\n",
       "white     5007\n",
       "black     3604\n",
       "silver    2734\n",
       "blue      1776\n",
       "red       1766\n",
       "grey      1757\n",
       "green      447\n",
       "custom     429\n",
       "brown      397\n",
       "yellow     135\n",
       "orange     112\n",
       "purple      34\n",
       "Name: count, dtype: int64"
      ]
     },
     "execution_count": 59,
     "metadata": {},
     "output_type": "execute_result"
    }
   ],
   "source": [
    "vehicles['paint_color'].value_counts()"
   ]
  },
  {
   "cell_type": "markdown",
   "id": "192e92cd",
   "metadata": {},
   "source": [
    "## 3.18 State - Postal"
   ]
  },
  {
   "cell_type": "code",
   "execution_count": 65,
   "id": "930255cf",
   "metadata": {},
   "outputs": [
    {
     "name": "stdout",
     "output_type": "stream",
     "text": [
      "0  valores nulos\n",
      "0.0 % de valores nulos\n"
     ]
    }
   ],
   "source": [
    "# Valores Nulos\n",
    "\n",
    "a = vehicles['state'].isnull().sum()\n",
    "print(a, ' valores nulos')\n",
    "print (round(a / len(vehicles['state']) *100, 2), \"% de valores nulos\")"
   ]
  },
  {
   "cell_type": "code",
   "execution_count": 66,
   "id": "98213cff",
   "metadata": {},
   "outputs": [
    {
     "data": {
      "text/plain": [
       "state\n",
       "ca    5689\n",
       "fl    3243\n",
       "tx    2111\n",
       "mi    1337\n",
       "ny    1268\n",
       "oh    1008\n",
       "pa     911\n",
       "nc     893\n",
       "or     877\n",
       "wa     635\n",
       "wi     604\n",
       "tn     580\n",
       "va     455\n",
       "co     438\n",
       "il     385\n",
       "ia     322\n",
       "ma     304\n",
       "nj     285\n",
       "mt     280\n",
       "mn     277\n",
       "id     263\n",
       "sc     241\n",
       "az     219\n",
       "al     200\n",
       "ga     187\n",
       "in     165\n",
       "mo     135\n",
       "ct     129\n",
       "ks     125\n",
       "ky     125\n",
       "ok     107\n",
       "ar     106\n",
       "la      79\n",
       "md      73\n",
       "ak      53\n",
       "nm      51\n",
       "ne      32\n",
       "nv      30\n",
       "dc      30\n",
       "me      26\n",
       "ms      22\n",
       "vt      22\n",
       "ri      20\n",
       "hi      20\n",
       "nh      20\n",
       "sd      13\n",
       "wv       8\n",
       "wy       4\n",
       "de       4\n",
       "ut       2\n",
       "nd       2\n",
       "Name: count, dtype: int64"
      ]
     },
     "execution_count": 66,
     "metadata": {},
     "output_type": "execute_result"
    }
   ],
   "source": [
    "vehicles_adj['state'].value_counts()"
   ]
  },
  {
   "cell_type": "code",
   "execution_count": 72,
   "id": "767d5b95",
   "metadata": {},
   "outputs": [],
   "source": [
    "vehicles_adj = vehicles_adj.rename(columns={'state': 'Postal'})"
   ]
  },
  {
   "cell_type": "code",
   "execution_count": 73,
   "id": "1b732426",
   "metadata": {},
   "outputs": [
    {
     "name": "stdout",
     "output_type": "stream",
     "text": [
      "                      region  price    year manufacturer  \\\n",
      "0               palm springs   3400  2002.0   volkswagen   \n",
      "1                      salem   6300  2004.0    chevrolet   \n",
      "2                long island   9997  2011.0       nissan   \n",
      "3                   amarillo  21504  2017.0    chevrolet   \n",
      "4              inland empire  28900  2009.0     cadillac   \n",
      "...                      ...    ...     ...          ...   \n",
      "26982         ventura county   4995  2006.0   volkswagen   \n",
      "26983     mcallen / edinburg   7200  2007.0    chevrolet   \n",
      "26985  ft myers / SW florida  10000  2002.0    chevrolet   \n",
      "26986                 tucson   3800  2005.0        dodge   \n",
      "26987            los angeles  21800  2013.0          bmw   \n",
      "\n",
      "                              model  condition    cylinders    fuel  odometer  \\\n",
      "0                         jetta gls  excellent  4 cylinders     gas  100000.0   \n",
      "1           silverado 2500 crew cab    unknown  8 cylinders     gas  208942.0   \n",
      "2                            xterra  excellent          NaN     gas  125666.0   \n",
      "3                            malibu    unknown  4 cylinders     gas   24218.0   \n",
      "4                             cts-v  excellent  8 cylinders     gas   61000.0   \n",
      "...                             ...        ...          ...     ...       ...   \n",
      "26982                         jetta    unknown          NaN  diesel  132212.0   \n",
      "26983                      tahoe lt       fair  8 cylinders     gas  210000.0   \n",
      "26985                      corvette    unknown          NaN     gas       NaN   \n",
      "26986                 grand caravan    unknown          NaN     gas       NaN   \n",
      "26987  3 series 328i convertible 2d       good          NaN     gas   18124.0   \n",
      "\n",
      "      title_status  ... drive       size    type paint_color  \\\n",
      "0            clean  ...   NaN        NaN   wagon         NaN   \n",
      "1            clean  ...   4wd        NaN  pickup       white   \n",
      "2            clean  ...   NaN        NaN     NaN         NaN   \n",
      "3            clean  ...   fwd   mid-size   sedan         red   \n",
      "4            clean  ...   rwd   mid-size   sedan      silver   \n",
      "...            ...  ...   ...        ...     ...         ...   \n",
      "26982        clean  ...   NaN    compact   sedan         NaN   \n",
      "26983        clean  ...   rwd  full-size     SUV        grey   \n",
      "26985        clean  ...   NaN        NaN     NaN         NaN   \n",
      "26986        clean  ...   NaN        NaN     NaN         NaN   \n",
      "26987        clean  ...   rwd        NaN   other         NaN   \n",
      "\n",
      "                                             description county Postal  \\\n",
      "0      This 2002 Volkswagen Jetta GLS Wagon is simply...    NaN     ca   \n",
      "1      We want to let you know up front that Synergiz...    NaN     or   \n",
      "2      Year : 2011   \\t\\t  Make : NISSAN   \\t\\t\\tMode...    NaN     ny   \n",
      "3      Use this link to see more information on this ...    NaN     tx   \n",
      "4      2009 CTS-V, FAST! Awesome car, super clean, we...    NaN     ca   \n",
      "...                                                  ...    ...    ...   \n",
      "26982  2006 Volkswagen Jetta TDI     Offered by: Rega...    NaN     ca   \n",
      "26983  Selling a 2007 chevy tahoe lt 5.3 lt V8 210,00...    NaN     tx   \n",
      "26985  Good condition, reply to post to see, nights a...    NaN     fl   \n",
      "26986  2005 Dodge grand caravan, $3,800, title clean,...    NaN     az   \n",
      "26987  Welcome to Carvana—the new way to buy a car (e...    NaN     ca   \n",
      "\n",
      "           lat      long  log_price  \n",
      "0      33.7451 -116.3520   8.131531  \n",
      "1      44.9225 -123.3200   8.748305  \n",
      "2      40.8004  -73.0058   9.210040  \n",
      "3      35.1773 -101.7940   9.975994  \n",
      "4      33.9748 -117.5580  10.271597  \n",
      "...        ...       ...        ...  \n",
      "26982  34.1835 -118.9080   8.516193  \n",
      "26983  26.1694  -97.9887   8.881836  \n",
      "26985  26.2925  -81.5947   9.210340  \n",
      "26986  32.1422 -111.0510   8.242756  \n",
      "26987  33.9500 -118.1200   9.989665  \n",
      "\n",
      "[24415 rows x 22 columns]\n"
     ]
    }
   ],
   "source": [
    "print(vehicles_adj)"
   ]
  },
  {
   "cell_type": "markdown",
   "id": "e6f1c2fe",
   "metadata": {},
   "source": [
    "### 3.21 Poverty and Crashes"
   ]
  },
  {
   "cell_type": "code",
   "execution_count": 74,
   "id": "c7b4f82e",
   "metadata": {},
   "outputs": [
    {
     "name": "stdout",
     "output_type": "stream",
     "text": [
      "          region  price    year manufacturer                    model  \\\n",
      "0   palm springs   3400  2002.0   volkswagen                jetta gls   \n",
      "1          salem   6300  2004.0    chevrolet  silverado 2500 crew cab   \n",
      "2    long island   9997  2011.0       nissan                   xterra   \n",
      "3       amarillo  21504  2017.0    chevrolet                   malibu   \n",
      "4  inland empire  28900  2009.0     cadillac                    cts-v   \n",
      "\n",
      "   condition    cylinders fuel  odometer title_status  ...      size    type  \\\n",
      "0  excellent  4 cylinders  gas  100000.0        clean  ...       NaN   wagon   \n",
      "1    unknown  8 cylinders  gas  208942.0        clean  ...       NaN  pickup   \n",
      "2  excellent          NaN  gas  125666.0        clean  ...       NaN     NaN   \n",
      "3    unknown  4 cylinders  gas   24218.0        clean  ...  mid-size   sedan   \n",
      "4  excellent  8 cylinders  gas   61000.0        clean  ...  mid-size   sedan   \n",
      "\n",
      "  paint_color                                        description county  \\\n",
      "0         NaN  This 2002 Volkswagen Jetta GLS Wagon is simply...    NaN   \n",
      "1       white  We want to let you know up front that Synergiz...    NaN   \n",
      "2         NaN  Year : 2011   \\t\\t  Make : NISSAN   \\t\\t\\tMode...    NaN   \n",
      "3         red  Use this link to see more information on this ...    NaN   \n",
      "4      silver  2009 CTS-V, FAST! Awesome car, super clean, we...    NaN   \n",
      "\n",
      "  Postal      lat      long  log_price       State  \n",
      "0     ca  33.7451 -116.3520   8.131531  California  \n",
      "1     or  44.9225 -123.3200   8.748305      Oregon  \n",
      "2     ny  40.8004  -73.0058   9.210040    New York  \n",
      "3     tx  35.1773 -101.7940   9.975994       Texas  \n",
      "4     ca  33.9748 -117.5580  10.271597  California  \n",
      "\n",
      "[5 rows x 23 columns]\n"
     ]
    }
   ],
   "source": [
    "# Realiza la combinación de los DataFrames en función de la columna 'Postal'\n",
    "vehicles_adj = vehicles_adj.merge(counties[['Postal', 'State']], on='Postal', how='left')\n",
    "\n",
    "# Renombra la columna 'state' resultante como 'state2'\n",
    "#vehicles_counties.rename(columns={'state': 'state2'}, inplace=True)\n",
    "\n",
    "# Muestra las primeras filas del DataFrame resultante para verificar el cambio\n",
    "print(vehicles_adj.head())"
   ]
  },
  {
   "cell_type": "code",
   "execution_count": 75,
   "id": "00db020b",
   "metadata": {},
   "outputs": [
    {
     "data": {
      "text/html": [
       "<div>\n",
       "<style scoped>\n",
       "    .dataframe tbody tr th:only-of-type {\n",
       "        vertical-align: middle;\n",
       "    }\n",
       "\n",
       "    .dataframe tbody tr th {\n",
       "        vertical-align: top;\n",
       "    }\n",
       "\n",
       "    .dataframe thead th {\n",
       "        text-align: right;\n",
       "    }\n",
       "</style>\n",
       "<table border=\"1\" class=\"dataframe\">\n",
       "  <thead>\n",
       "    <tr style=\"text-align: right;\">\n",
       "      <th></th>\n",
       "      <th>region</th>\n",
       "      <th>price</th>\n",
       "      <th>year</th>\n",
       "      <th>manufacturer</th>\n",
       "      <th>model</th>\n",
       "      <th>condition</th>\n",
       "      <th>cylinders</th>\n",
       "      <th>fuel</th>\n",
       "      <th>odometer</th>\n",
       "      <th>title_status</th>\n",
       "      <th>...</th>\n",
       "      <th>paint_color</th>\n",
       "      <th>description</th>\n",
       "      <th>county</th>\n",
       "      <th>Postal</th>\n",
       "      <th>lat</th>\n",
       "      <th>long</th>\n",
       "      <th>log_price</th>\n",
       "      <th>State</th>\n",
       "      <th>Number of Crashes</th>\n",
       "      <th>Poverty</th>\n",
       "    </tr>\n",
       "  </thead>\n",
       "  <tbody>\n",
       "    <tr>\n",
       "      <th>0</th>\n",
       "      <td>palm springs</td>\n",
       "      <td>3400</td>\n",
       "      <td>2002.0</td>\n",
       "      <td>volkswagen</td>\n",
       "      <td>jetta gls</td>\n",
       "      <td>excellent</td>\n",
       "      <td>4 cylinders</td>\n",
       "      <td>gas</td>\n",
       "      <td>100000.0</td>\n",
       "      <td>clean</td>\n",
       "      <td>...</td>\n",
       "      <td>NaN</td>\n",
       "      <td>This 2002 Volkswagen Jetta GLS Wagon is simply...</td>\n",
       "      <td>NaN</td>\n",
       "      <td>ca</td>\n",
       "      <td>33.7451</td>\n",
       "      <td>-116.3520</td>\n",
       "      <td>8.131531</td>\n",
       "      <td>California</td>\n",
       "      <td>116.0</td>\n",
       "      <td>12.8</td>\n",
       "    </tr>\n",
       "    <tr>\n",
       "      <th>1</th>\n",
       "      <td>salem</td>\n",
       "      <td>6300</td>\n",
       "      <td>2004.0</td>\n",
       "      <td>chevrolet</td>\n",
       "      <td>silverado 2500 crew cab</td>\n",
       "      <td>unknown</td>\n",
       "      <td>8 cylinders</td>\n",
       "      <td>gas</td>\n",
       "      <td>208942.0</td>\n",
       "      <td>clean</td>\n",
       "      <td>...</td>\n",
       "      <td>white</td>\n",
       "      <td>We want to let you know up front that Synergiz...</td>\n",
       "      <td>NaN</td>\n",
       "      <td>or</td>\n",
       "      <td>44.9225</td>\n",
       "      <td>-123.3200</td>\n",
       "      <td>8.748305</td>\n",
       "      <td>Oregon</td>\n",
       "      <td>125.0</td>\n",
       "      <td>12.5</td>\n",
       "    </tr>\n",
       "    <tr>\n",
       "      <th>2</th>\n",
       "      <td>long island</td>\n",
       "      <td>9997</td>\n",
       "      <td>2011.0</td>\n",
       "      <td>nissan</td>\n",
       "      <td>xterra</td>\n",
       "      <td>excellent</td>\n",
       "      <td>NaN</td>\n",
       "      <td>gas</td>\n",
       "      <td>125666.0</td>\n",
       "      <td>clean</td>\n",
       "      <td>...</td>\n",
       "      <td>NaN</td>\n",
       "      <td>Year : 2011   \\t\\t  Make : NISSAN   \\t\\t\\tMode...</td>\n",
       "      <td>NaN</td>\n",
       "      <td>ny</td>\n",
       "      <td>40.8004</td>\n",
       "      <td>-73.0058</td>\n",
       "      <td>9.210040</td>\n",
       "      <td>New York</td>\n",
       "      <td>156.0</td>\n",
       "      <td>13.7</td>\n",
       "    </tr>\n",
       "    <tr>\n",
       "      <th>3</th>\n",
       "      <td>amarillo</td>\n",
       "      <td>21504</td>\n",
       "      <td>2017.0</td>\n",
       "      <td>chevrolet</td>\n",
       "      <td>malibu</td>\n",
       "      <td>unknown</td>\n",
       "      <td>4 cylinders</td>\n",
       "      <td>gas</td>\n",
       "      <td>24218.0</td>\n",
       "      <td>clean</td>\n",
       "      <td>...</td>\n",
       "      <td>red</td>\n",
       "      <td>Use this link to see more information on this ...</td>\n",
       "      <td>NaN</td>\n",
       "      <td>tx</td>\n",
       "      <td>35.1773</td>\n",
       "      <td>-101.7940</td>\n",
       "      <td>9.975994</td>\n",
       "      <td>Texas</td>\n",
       "      <td>268.0</td>\n",
       "      <td>14.9</td>\n",
       "    </tr>\n",
       "    <tr>\n",
       "      <th>4</th>\n",
       "      <td>inland empire</td>\n",
       "      <td>28900</td>\n",
       "      <td>2009.0</td>\n",
       "      <td>cadillac</td>\n",
       "      <td>cts-v</td>\n",
       "      <td>excellent</td>\n",
       "      <td>8 cylinders</td>\n",
       "      <td>gas</td>\n",
       "      <td>61000.0</td>\n",
       "      <td>clean</td>\n",
       "      <td>...</td>\n",
       "      <td>silver</td>\n",
       "      <td>2009 CTS-V, FAST! Awesome car, super clean, we...</td>\n",
       "      <td>NaN</td>\n",
       "      <td>ca</td>\n",
       "      <td>33.9748</td>\n",
       "      <td>-117.5580</td>\n",
       "      <td>10.271597</td>\n",
       "      <td>California</td>\n",
       "      <td>116.0</td>\n",
       "      <td>12.8</td>\n",
       "    </tr>\n",
       "    <tr>\n",
       "      <th>...</th>\n",
       "      <td>...</td>\n",
       "      <td>...</td>\n",
       "      <td>...</td>\n",
       "      <td>...</td>\n",
       "      <td>...</td>\n",
       "      <td>...</td>\n",
       "      <td>...</td>\n",
       "      <td>...</td>\n",
       "      <td>...</td>\n",
       "      <td>...</td>\n",
       "      <td>...</td>\n",
       "      <td>...</td>\n",
       "      <td>...</td>\n",
       "      <td>...</td>\n",
       "      <td>...</td>\n",
       "      <td>...</td>\n",
       "      <td>...</td>\n",
       "      <td>...</td>\n",
       "      <td>...</td>\n",
       "      <td>...</td>\n",
       "      <td>...</td>\n",
       "    </tr>\n",
       "    <tr>\n",
       "      <th>24410</th>\n",
       "      <td>ventura county</td>\n",
       "      <td>4995</td>\n",
       "      <td>2006.0</td>\n",
       "      <td>volkswagen</td>\n",
       "      <td>jetta</td>\n",
       "      <td>unknown</td>\n",
       "      <td>NaN</td>\n",
       "      <td>diesel</td>\n",
       "      <td>132212.0</td>\n",
       "      <td>clean</td>\n",
       "      <td>...</td>\n",
       "      <td>NaN</td>\n",
       "      <td>2006 Volkswagen Jetta TDI     Offered by: Rega...</td>\n",
       "      <td>NaN</td>\n",
       "      <td>ca</td>\n",
       "      <td>34.1835</td>\n",
       "      <td>-118.9080</td>\n",
       "      <td>8.516193</td>\n",
       "      <td>California</td>\n",
       "      <td>116.0</td>\n",
       "      <td>12.8</td>\n",
       "    </tr>\n",
       "    <tr>\n",
       "      <th>24411</th>\n",
       "      <td>mcallen / edinburg</td>\n",
       "      <td>7200</td>\n",
       "      <td>2007.0</td>\n",
       "      <td>chevrolet</td>\n",
       "      <td>tahoe lt</td>\n",
       "      <td>fair</td>\n",
       "      <td>8 cylinders</td>\n",
       "      <td>gas</td>\n",
       "      <td>210000.0</td>\n",
       "      <td>clean</td>\n",
       "      <td>...</td>\n",
       "      <td>grey</td>\n",
       "      <td>Selling a 2007 chevy tahoe lt 5.3 lt V8 210,00...</td>\n",
       "      <td>NaN</td>\n",
       "      <td>tx</td>\n",
       "      <td>26.1694</td>\n",
       "      <td>-97.9887</td>\n",
       "      <td>8.881836</td>\n",
       "      <td>Texas</td>\n",
       "      <td>268.0</td>\n",
       "      <td>14.9</td>\n",
       "    </tr>\n",
       "    <tr>\n",
       "      <th>24412</th>\n",
       "      <td>ft myers / SW florida</td>\n",
       "      <td>10000</td>\n",
       "      <td>2002.0</td>\n",
       "      <td>chevrolet</td>\n",
       "      <td>corvette</td>\n",
       "      <td>unknown</td>\n",
       "      <td>NaN</td>\n",
       "      <td>gas</td>\n",
       "      <td>NaN</td>\n",
       "      <td>clean</td>\n",
       "      <td>...</td>\n",
       "      <td>NaN</td>\n",
       "      <td>Good condition, reply to post to see, nights a...</td>\n",
       "      <td>NaN</td>\n",
       "      <td>fl</td>\n",
       "      <td>26.2925</td>\n",
       "      <td>-81.5947</td>\n",
       "      <td>9.210340</td>\n",
       "      <td>Florida</td>\n",
       "      <td>1011.0</td>\n",
       "      <td>13.7</td>\n",
       "    </tr>\n",
       "    <tr>\n",
       "      <th>24413</th>\n",
       "      <td>tucson</td>\n",
       "      <td>3800</td>\n",
       "      <td>2005.0</td>\n",
       "      <td>dodge</td>\n",
       "      <td>grand caravan</td>\n",
       "      <td>unknown</td>\n",
       "      <td>NaN</td>\n",
       "      <td>gas</td>\n",
       "      <td>NaN</td>\n",
       "      <td>clean</td>\n",
       "      <td>...</td>\n",
       "      <td>NaN</td>\n",
       "      <td>2005 Dodge grand caravan, $3,800, title clean,...</td>\n",
       "      <td>NaN</td>\n",
       "      <td>az</td>\n",
       "      <td>32.1422</td>\n",
       "      <td>-111.0510</td>\n",
       "      <td>8.242756</td>\n",
       "      <td>Arizona</td>\n",
       "      <td>249.0</td>\n",
       "      <td>14.1</td>\n",
       "    </tr>\n",
       "    <tr>\n",
       "      <th>24414</th>\n",
       "      <td>los angeles</td>\n",
       "      <td>21800</td>\n",
       "      <td>2013.0</td>\n",
       "      <td>bmw</td>\n",
       "      <td>3 series 328i convertible 2d</td>\n",
       "      <td>good</td>\n",
       "      <td>NaN</td>\n",
       "      <td>gas</td>\n",
       "      <td>18124.0</td>\n",
       "      <td>clean</td>\n",
       "      <td>...</td>\n",
       "      <td>NaN</td>\n",
       "      <td>Welcome to Carvana—the new way to buy a car (e...</td>\n",
       "      <td>NaN</td>\n",
       "      <td>ca</td>\n",
       "      <td>33.9500</td>\n",
       "      <td>-118.1200</td>\n",
       "      <td>9.989665</td>\n",
       "      <td>California</td>\n",
       "      <td>116.0</td>\n",
       "      <td>12.8</td>\n",
       "    </tr>\n",
       "  </tbody>\n",
       "</table>\n",
       "<p>24415 rows × 25 columns</p>\n",
       "</div>"
      ],
      "text/plain": [
       "                      region  price    year manufacturer  \\\n",
       "0               palm springs   3400  2002.0   volkswagen   \n",
       "1                      salem   6300  2004.0    chevrolet   \n",
       "2                long island   9997  2011.0       nissan   \n",
       "3                   amarillo  21504  2017.0    chevrolet   \n",
       "4              inland empire  28900  2009.0     cadillac   \n",
       "...                      ...    ...     ...          ...   \n",
       "24410         ventura county   4995  2006.0   volkswagen   \n",
       "24411     mcallen / edinburg   7200  2007.0    chevrolet   \n",
       "24412  ft myers / SW florida  10000  2002.0    chevrolet   \n",
       "24413                 tucson   3800  2005.0        dodge   \n",
       "24414            los angeles  21800  2013.0          bmw   \n",
       "\n",
       "                              model  condition    cylinders    fuel  odometer  \\\n",
       "0                         jetta gls  excellent  4 cylinders     gas  100000.0   \n",
       "1           silverado 2500 crew cab    unknown  8 cylinders     gas  208942.0   \n",
       "2                            xterra  excellent          NaN     gas  125666.0   \n",
       "3                            malibu    unknown  4 cylinders     gas   24218.0   \n",
       "4                             cts-v  excellent  8 cylinders     gas   61000.0   \n",
       "...                             ...        ...          ...     ...       ...   \n",
       "24410                         jetta    unknown          NaN  diesel  132212.0   \n",
       "24411                      tahoe lt       fair  8 cylinders     gas  210000.0   \n",
       "24412                      corvette    unknown          NaN     gas       NaN   \n",
       "24413                 grand caravan    unknown          NaN     gas       NaN   \n",
       "24414  3 series 328i convertible 2d       good          NaN     gas   18124.0   \n",
       "\n",
       "      title_status  ... paint_color  \\\n",
       "0            clean  ...         NaN   \n",
       "1            clean  ...       white   \n",
       "2            clean  ...         NaN   \n",
       "3            clean  ...         red   \n",
       "4            clean  ...      silver   \n",
       "...            ...  ...         ...   \n",
       "24410        clean  ...         NaN   \n",
       "24411        clean  ...        grey   \n",
       "24412        clean  ...         NaN   \n",
       "24413        clean  ...         NaN   \n",
       "24414        clean  ...         NaN   \n",
       "\n",
       "                                             description county Postal  \\\n",
       "0      This 2002 Volkswagen Jetta GLS Wagon is simply...    NaN     ca   \n",
       "1      We want to let you know up front that Synergiz...    NaN     or   \n",
       "2      Year : 2011   \\t\\t  Make : NISSAN   \\t\\t\\tMode...    NaN     ny   \n",
       "3      Use this link to see more information on this ...    NaN     tx   \n",
       "4      2009 CTS-V, FAST! Awesome car, super clean, we...    NaN     ca   \n",
       "...                                                  ...    ...    ...   \n",
       "24410  2006 Volkswagen Jetta TDI     Offered by: Rega...    NaN     ca   \n",
       "24411  Selling a 2007 chevy tahoe lt 5.3 lt V8 210,00...    NaN     tx   \n",
       "24412  Good condition, reply to post to see, nights a...    NaN     fl   \n",
       "24413  2005 Dodge grand caravan, $3,800, title clean,...    NaN     az   \n",
       "24414  Welcome to Carvana—the new way to buy a car (e...    NaN     ca   \n",
       "\n",
       "           lat      long  log_price       State Number of Crashes  Poverty  \n",
       "0      33.7451 -116.3520   8.131531  California             116.0     12.8  \n",
       "1      44.9225 -123.3200   8.748305      Oregon             125.0     12.5  \n",
       "2      40.8004  -73.0058   9.210040    New York             156.0     13.7  \n",
       "3      35.1773 -101.7940   9.975994       Texas             268.0     14.9  \n",
       "4      33.9748 -117.5580  10.271597  California             116.0     12.8  \n",
       "...        ...       ...        ...         ...               ...      ...  \n",
       "24410  34.1835 -118.9080   8.516193  California             116.0     12.8  \n",
       "24411  26.1694  -97.9887   8.881836       Texas             268.0     14.9  \n",
       "24412  26.2925  -81.5947   9.210340     Florida            1011.0     13.7  \n",
       "24413  32.1422 -111.0510   8.242756     Arizona             249.0     14.1  \n",
       "24414  33.9500 -118.1200   9.989665  California             116.0     12.8  \n",
       "\n",
       "[24415 rows x 25 columns]"
      ]
     },
     "execution_count": 75,
     "metadata": {},
     "output_type": "execute_result"
    }
   ],
   "source": [
    "vehicles_adj = vehicles_adj.merge(crashes_poverty[['State', 'Number of Crashes', 'Poverty']], on='State', how='left')\n",
    "vehicles_adj"
   ]
  },
  {
   "cell_type": "code",
   "execution_count": 76,
   "id": "faf4e446",
   "metadata": {},
   "outputs": [],
   "source": [
    "vehicles_adj = vehicles_adj.drop([\"vin\", \"county\", \"lat\", \"long\"], axis=1)"
   ]
  },
  {
   "cell_type": "code",
   "execution_count": 77,
   "id": "ffbdf692",
   "metadata": {
    "scrolled": true
   },
   "outputs": [
    {
     "data": {
      "text/plain": [
       "(24415, 21)"
      ]
     },
     "execution_count": 77,
     "metadata": {},
     "output_type": "execute_result"
    }
   ],
   "source": [
    "vehicles_adj.shape"
   ]
  },
  {
   "cell_type": "code",
   "execution_count": 78,
   "id": "c3b595fc",
   "metadata": {},
   "outputs": [
    {
     "name": "stdout",
     "output_type": "stream",
     "text": [
      "                      region  price    year manufacturer  \\\n",
      "0               palm springs   3400  2002.0   volkswagen   \n",
      "1                      salem   6300  2004.0    chevrolet   \n",
      "2                long island   9997  2011.0       nissan   \n",
      "3                   amarillo  21504  2017.0    chevrolet   \n",
      "4              inland empire  28900  2009.0     cadillac   \n",
      "...                      ...    ...     ...          ...   \n",
      "24410         ventura county   4995  2006.0   volkswagen   \n",
      "24411     mcallen / edinburg   7200  2007.0    chevrolet   \n",
      "24412  ft myers / SW florida  10000  2002.0    chevrolet   \n",
      "24413                 tucson   3800  2005.0        dodge   \n",
      "24414            los angeles  21800  2013.0          bmw   \n",
      "\n",
      "                              model  condition    cylinders    fuel  odometer  \\\n",
      "0                         jetta gls  excellent  4 cylinders     gas  100000.0   \n",
      "1           silverado 2500 crew cab    unknown  8 cylinders     gas  208942.0   \n",
      "2                            xterra  excellent          NaN     gas  125666.0   \n",
      "3                            malibu    unknown  4 cylinders     gas   24218.0   \n",
      "4                             cts-v  excellent  8 cylinders     gas   61000.0   \n",
      "...                             ...        ...          ...     ...       ...   \n",
      "24410                         jetta    unknown          NaN  diesel  132212.0   \n",
      "24411                      tahoe lt       fair  8 cylinders     gas  210000.0   \n",
      "24412                      corvette    unknown          NaN     gas       NaN   \n",
      "24413                 grand caravan    unknown          NaN     gas       NaN   \n",
      "24414  3 series 328i convertible 2d       good          NaN     gas   18124.0   \n",
      "\n",
      "      title_status  ... drive       size    type paint_color  \\\n",
      "0            clean  ...   NaN        NaN   wagon         NaN   \n",
      "1            clean  ...   4wd        NaN  pickup       white   \n",
      "2            clean  ...   NaN        NaN     NaN         NaN   \n",
      "3            clean  ...   fwd   mid-size   sedan         red   \n",
      "4            clean  ...   rwd   mid-size   sedan      silver   \n",
      "...            ...  ...   ...        ...     ...         ...   \n",
      "24410        clean  ...   NaN    compact   sedan         NaN   \n",
      "24411        clean  ...   rwd  full-size     SUV        grey   \n",
      "24412        clean  ...   NaN        NaN     NaN         NaN   \n",
      "24413        clean  ...   NaN        NaN     NaN         NaN   \n",
      "24414        clean  ...   rwd        NaN   other         NaN   \n",
      "\n",
      "                                             description Postal  log_price  \\\n",
      "0      This 2002 Volkswagen Jetta GLS Wagon is simply...     ca   8.131531   \n",
      "1      We want to let you know up front that Synergiz...     or   8.748305   \n",
      "2      Year : 2011   \\t\\t  Make : NISSAN   \\t\\t\\tMode...     ny   9.210040   \n",
      "3      Use this link to see more information on this ...     tx   9.975994   \n",
      "4      2009 CTS-V, FAST! Awesome car, super clean, we...     ca  10.271597   \n",
      "...                                                  ...    ...        ...   \n",
      "24410  2006 Volkswagen Jetta TDI     Offered by: Rega...     ca   8.516193   \n",
      "24411  Selling a 2007 chevy tahoe lt 5.3 lt V8 210,00...     tx   8.881836   \n",
      "24412  Good condition, reply to post to see, nights a...     fl   9.210340   \n",
      "24413  2005 Dodge grand caravan, $3,800, title clean,...     az   8.242756   \n",
      "24414  Welcome to Carvana—the new way to buy a car (e...     ca   9.989665   \n",
      "\n",
      "            State Number of Crashes  Poverty  \n",
      "0      California             116.0     12.8  \n",
      "1          Oregon             125.0     12.5  \n",
      "2        New York             156.0     13.7  \n",
      "3           Texas             268.0     14.9  \n",
      "4      California             116.0     12.8  \n",
      "...           ...               ...      ...  \n",
      "24410  California             116.0     12.8  \n",
      "24411       Texas             268.0     14.9  \n",
      "24412     Florida            1011.0     13.7  \n",
      "24413     Arizona             249.0     14.1  \n",
      "24414  California             116.0     12.8  \n",
      "\n",
      "[24415 rows x 21 columns]\n"
     ]
    }
   ],
   "source": [
    "print(vehicles_adj)"
   ]
  },
  {
   "cell_type": "code",
   "execution_count": 79,
   "id": "791c58c3",
   "metadata": {},
   "outputs": [
    {
     "name": "stdout",
     "output_type": "stream",
     "text": [
      "<class 'pandas.core.frame.DataFrame'>\n",
      "RangeIndex: 24415 entries, 0 to 24414\n",
      "Data columns (total 21 columns):\n",
      " #   Column             Non-Null Count  Dtype  \n",
      "---  ------             --------------  -----  \n",
      " 0   region             24415 non-null  object \n",
      " 1   price              24415 non-null  int64  \n",
      " 2   year               24365 non-null  float64\n",
      " 3   manufacturer       23376 non-null  object \n",
      " 4   model              24057 non-null  object \n",
      " 5   condition          24415 non-null  object \n",
      " 6   cylinders          14430 non-null  object \n",
      " 7   fuel               24262 non-null  object \n",
      " 8   odometer           20007 non-null  float64\n",
      " 9   title_status       24309 non-null  object \n",
      " 10  transmission       24204 non-null  object \n",
      " 11  drive              17149 non-null  object \n",
      " 12  size               7464 non-null   object \n",
      " 13  type               17874 non-null  object \n",
      " 14  paint_color        16575 non-null  object \n",
      " 15  description        24412 non-null  object \n",
      " 16  Postal             24415 non-null  object \n",
      " 17  log_price          24415 non-null  float64\n",
      " 18  State              24415 non-null  object \n",
      " 19  Number of Crashes  24385 non-null  float64\n",
      " 20  Poverty            24385 non-null  float64\n",
      "dtypes: float64(5), int64(1), object(15)\n",
      "memory usage: 3.9+ MB\n"
     ]
    }
   ],
   "source": [
    "vehicles_adj.info()"
   ]
  },
  {
   "cell_type": "markdown",
   "id": "5f0549a7",
   "metadata": {},
   "source": [
    "## 4. Analisis Conjunto"
   ]
  },
  {
   "cell_type": "markdown",
   "id": "73abb076",
   "metadata": {},
   "source": [
    "### 4.7.1 Year vs Price"
   ]
  },
  {
   "cell_type": "code",
   "execution_count": 80,
   "id": "39e3af16",
   "metadata": {},
   "outputs": [
    {
     "data": {
      "image/png": "[encoded data removed]",
      "text/plain": [
       "<Figure size 800x300 with 1 Axes>"
      ]
     },
     "metadata": {},
     "output_type": "display_data"
    }
   ],
   "source": [
    "# Crea la gráfica de dispersión\n",
    "plt.figure(figsize=(8, 3))  # Tamaño de la gráfica\n",
    "plt.scatter(vehicles_adj['year'], vehicles_adj['price'], alpha=0.5)  # Crea la gráfica de dispersión\n",
    "plt.title('Year vs Price')  # Título de la gráfica\n",
    "plt.xlabel('Year')  # Etiqueta del eje x\n",
    "plt.ylabel('Price')  # Etiqueta del eje y\n",
    "plt.grid(True) \n",
    "plt.show()"
   ]
  },
  {
   "cell_type": "markdown",
   "id": "d44955ee",
   "metadata": {},
   "source": [
    "### 4.2 Year vs Odometer"
   ]
  },
  {
   "cell_type": "code",
   "execution_count": 81,
   "id": "ce8b9bd0",
   "metadata": {},
   "outputs": [
    {
     "data": {
      "image/png": "[encoded data removed]",
      "text/plain": [
       "<Figure size 800x300 with 1 Axes>"
      ]
     },
     "metadata": {},
     "output_type": "display_data"
    }
   ],
   "source": [
    "# Crea la gráfica de dispersión\n",
    "plt.figure(figsize=(8, 3))  # Tamaño de la gráfica\n",
    "plt.scatter(vehicles_adj['year'], vehicles_adj['odometer'], alpha=0.5)  # Crea la gráfica de dispersión\n",
    "plt.title('Year vs Odometer')  # Título de la gráfica\n",
    "plt.xlabel('Year')  # Etiqueta del eje x\n",
    "plt.ylabel('Odometer')  # Etiqueta del eje y\n",
    "plt.grid(True)  # Agrega una cuadrícula al gráfico\n",
    "plt.show()"
   ]
  },
  {
   "cell_type": "markdown",
   "id": "5b8e1a80",
   "metadata": {},
   "source": [
    "### 4.3 Price vs Poverty"
   ]
  },
  {
   "cell_type": "code",
   "execution_count": 89,
   "id": "0f2f8729",
   "metadata": {},
   "outputs": [
    {
     "data": {
      "image/png": "[encoded data removed]",
      "text/plain": [
       "<Figure size 800x300 with 1 Axes>"
      ]
     },
     "metadata": {},
     "output_type": "display_data"
    }
   ],
   "source": [
    "# Crea la gráfica de dispersión\n",
    "plt.figure(figsize=(8, 3))  # Tamaño de la gráfica\n",
    "plt.scatter(vehicles_adj['Poverty'], vehicles_adj['price'], alpha=0.5)  # Crea la gráfica de dispersión\n",
    "plt.title('Price vs Poverty')  # Título de la gráfica\n",
    "plt.xlabel('Poverty')  # Etiqueta del eje x\n",
    "plt.ylabel('Price')  # Etiqueta del eje y\n",
    "plt.grid(True)  # Agrega una cuadrícula al gráfico\n",
    "plt.show()"
   ]
  },
  {
   "cell_type": "markdown",
   "id": "8943ed19",
   "metadata": {},
   "source": [
    "## 4.4 Number of Crashes vs Price"
   ]
  },
  {
   "cell_type": "code",
   "execution_count": 91,
   "id": "bd59b615",
   "metadata": {},
   "outputs": [
    {
     "data": {
      "image/png": "[encoded data removed]",
      "text/plain": [
       "<Figure size 800x300 with 1 Axes>"
      ]
     },
     "metadata": {},
     "output_type": "display_data"
    }
   ],
   "source": [
    "# Crea la gráfica de dispersión\n",
    "plt.figure(figsize=(8, 3))  # Tamaño de la gráfica\n",
    "plt.scatter(vehicles_adj['Number of Crashes'], vehicles_adj['price'], alpha=0.5)  # Crea la gráfica de dispersión\n",
    "plt.title('Number of Crashes vs Price')  # Título de la gráfica\n",
    "plt.xlabel('Number of Crashes')  # Etiqueta del eje x\n",
    "plt.ylabel('Price')  # Etiqueta del eje y\n",
    "plt.grid(True)  # Agrega una cuadrícula al gráfico\n",
    "plt.show()"
   ]
  },
  {
   "cell_type": "markdown",
   "id": "853b3cdd",
   "metadata": {},
   "source": [
    "## 4.3 Correlation"
   ]
  },
  {
   "cell_type": "code",
   "execution_count": 92,
   "id": "791c43dc",
   "metadata": {},
   "outputs": [
    {
     "data": {
      "text/plain": [
       "Index(['region', 'price', 'year', 'manufacturer', 'model', 'condition',\n",
       "       'cylinders', 'fuel', 'odometer', 'title_status', 'transmission',\n",
       "       'drive', 'size', 'type', 'paint_color', 'description', 'Postal',\n",
       "       'log_price', 'State', 'Number of Crashes', 'Poverty'],\n",
       "      dtype='object')"
      ]
     },
     "execution_count": 92,
     "metadata": {},
     "output_type": "execute_result"
    }
   ],
   "source": [
    "vehicles_adj.columns"
   ]
  },
  {
   "cell_type": "code",
   "execution_count": 84,
   "id": "2f2d2099",
   "metadata": {},
   "outputs": [
    {
     "data": {
      "image/png": "[encoded data removed]",
      "text/plain": [
       "<Figure size 600x400 with 2 Axes>"
      ]
     },
     "metadata": {},
     "output_type": "display_data"
    }
   ],
   "source": [
    "# Calcula la matriz de correlación\n",
    "vehicles_num= vehicles_adj[['price', 'year', 'odometer', 'Poverty', 'Number of Crashes']]\n",
    "\n",
    "matriz_correlacion = vehicles_num.corr()\n",
    "\n",
    "# Crea un mapa de calor con Seaborn para visualizar la matriz de correlación\n",
    "plt.figure(figsize=(6, 4))  # Tamaño del gráfico\n",
    "sns.heatmap(matriz_correlacion, annot=True, cmap='coolwarm', fmt=\".2f\")  # crea el mapa de calor\n",
    "plt.title('Mapa de calor de correlación')  # Título del gráfico\n",
    "plt.show()"
   ]
  },
  {
   "cell_type": "markdown",
   "id": "acf305d4",
   "metadata": {},
   "source": [
    "## 5. Modelo de pronóstico"
   ]
  },
  {
   "cell_type": "code",
   "execution_count": 93,
   "id": "713968c2",
   "metadata": {},
   "outputs": [],
   "source": [
    "\n",
    "# Dividir los datos en características (X) y etiquetas (y)\n",
    "X = vehicles_adj[['year', 'odometer', 'manufacturer', 'model', 'fuel', 'transmission', 'condition']]\n",
    "y = vehicles_adj['log_price']"
   ]
  },
  {
   "cell_type": "code",
   "execution_count": 94,
   "id": "cda56486",
   "metadata": {},
   "outputs": [],
   "source": [
    "# Dividir los datos en conjuntos de entrenamiento y prueba\n",
    "X_train, X_test, y_train, y_test = train_test_split(X, y, test_size=0.25, random_state=42)\n",
    "\n",
    "# Definir las columnas categóricas y las númericas\n",
    "categorical_features = ['manufacturer', 'model', 'fuel', 'transmission','condition']\n",
    "numerical_features = ['year', 'odometer']"
   ]
  },
  {
   "cell_type": "code",
   "execution_count": 95,
   "id": "10f7d46b",
   "metadata": {},
   "outputs": [],
   "source": [
    "# Crear un pipeline para preprocesar las características\n",
    "categorical_transformer = Pipeline(steps=[\n",
    "    ('imputer', SimpleImputer(strategy='constant', fill_value='mean')),\n",
    "    ('onehot', OneHotEncoder(handle_unknown='ignore'))\n",
    "])"
   ]
  },
  {
   "cell_type": "code",
   "execution_count": 96,
   "id": "3b39a11d",
   "metadata": {},
   "outputs": [],
   "source": [
    "preprocessor = ColumnTransformer(\n",
    "    transformers=[\n",
    "        ('cat', categorical_transformer, categorical_features),\n",
    "        ('num', SimpleImputer(strategy='mean'), numerical_features)\n",
    "    ])"
   ]
  },
  {
   "cell_type": "code",
   "execution_count": 97,
   "id": "adc97194",
   "metadata": {},
   "outputs": [],
   "source": [
    "# Crear el pipeline del modelo\n",
    "model = Pipeline(steps=[\n",
    "    ('preprocessor', preprocessor),\n",
    "    ('regressor', RandomForestRegressor(n_estimators=100, random_state=42))\n",
    "])"
   ]
  },
  {
   "cell_type": "code",
   "execution_count": 98,
   "id": "75e6f098",
   "metadata": {},
   "outputs": [
    {
     "name": "stdout",
     "output_type": "stream",
     "text": [
      "Tiempo transcurrido: 6.600066689650218 minutos\n",
      "Puntuación de entrenamiento: 0.9331009486186286\n",
      "Puntuación de prueba: 0.5410141171241292\n"
     ]
    }
   ],
   "source": [
    "# LOG PRICE\n",
    "\n",
    "# ['year', 'odometer', 'manufacturer', 'model', 'fuel', 'transmission', 'condition']\n",
    "\n",
    "inicio = time.time()\n",
    "\n",
    "# Entrenar el modelo\n",
    "model.fit(X_train, y_train)\n",
    "\n",
    "# Evaluar el modelo\n",
    "train_score = model.score(X_train, y_train)\n",
    "test_score = model.score(X_test, y_test)\n",
    "\n",
    "# Guarda el tiempo de finalización\n",
    "fin = time.time()\n",
    "\n",
    "# Calcula el tiempo transcurrido\n",
    "tiempo_transcurrido = fin - inicio\n",
    "\n",
    "# Imprime el tiempo transcurrido en segundos\n",
    "print(\"Tiempo transcurrido:\", tiempo_transcurrido/60, \"minutos\")\n",
    "\n",
    "print(f\"Puntuación de entrenamiento: {train_score}\")\n",
    "print(f\"Puntuación de prueba: {test_score}\")"
   ]
  }
 ],
 "metadata": {
  "kernelspec": {
   "display_name": "Python 3 (ipykernel)",
   "language": "python",
   "name": "python3"
  },
  "language_info": {
   "codemirror_mode": {
    "name": "ipython",
    "version": 3
   },
   "file_extension": ".py",
   "mimetype": "text/x-python",
   "name": "python",
   "nbconvert_exporter": "python",
   "pygments_lexer": "ipython3",
   "version": "3.11.5"
  }
 },
 "nbformat": 4,
 "nbformat_minor": 5
}
